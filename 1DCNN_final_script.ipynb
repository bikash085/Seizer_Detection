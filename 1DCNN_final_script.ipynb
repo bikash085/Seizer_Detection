{
 "cells": [
  {
   "cell_type": "code",
   "execution_count": 1,
   "id": "1bb18a10-3237-4f78-9519-0f39507cd92b",
   "metadata": {},
   "outputs": [
    {
     "name": "stderr",
     "output_type": "stream",
     "text": [
      "C:\\Users\\MVI_lab_2\\AppData\\Local\\Programs\\Python\\Python310\\lib\\site-packages\\scipy\\__init__.py:146: UserWarning: A NumPy version >=1.17.3 and <1.25.0 is required for this version of SciPy (detected version 1.26.4\n",
      "  warnings.warn(f\"A NumPy version >={np_minversion} and <{np_maxversion}\"\n"
     ]
    }
   ],
   "source": [
    "import pandas as pd\n",
    "import numpy as np\n",
    "from sklearn.model_selection import train_test_split\n",
    "from sklearn.model_selection import cross_val_score\n",
    "from sklearn.model_selection import RepeatedStratifiedKFold\n",
    "from sklearn import metrics\n",
    "from sklearn.metrics import ConfusionMatrixDisplay\n",
    "import matplotlib.pyplot as plt\n",
    "from sklearn.metrics import accuracy_score, confusion_matrix, classification_report\n",
    "############\n",
    "import numpy as np\n",
    "import matplotlib.pyplot as plt\n",
    "from itertools import cycle\n",
    "from sklearn.metrics import roc_curve, auc\n",
    "from sklearn.model_selection import train_test_split\n",
    "from sklearn.preprocessing import label_binarize\n",
    "from sklearn.multiclass import OneVsRestClassifier\n",
    "from numpy import interp"
   ]
  },
  {
   "cell_type": "code",
   "execution_count": 2,
   "id": "3c815d3a-ffb5-4c26-87e5-7f9049d86c05",
   "metadata": {},
   "outputs": [],
   "source": [
    "df=pd.read_csv('C:/Users/MVI_lab_2/Desktop/sezier_detection_LSTM/merge_preictal_ictal.csv')\n",
    "arr = df.to_numpy()\n",
    "x = arr[:, :-1]  \n",
    "y = arr[:, -1]   \n",
    "\n",
    "# x_train, x_test, y_train, y_test = train_test_split(x, y, test_size = 0.2, random_state = 12)\n",
    "x_train, x_test, y_train, y_test = train_test_split(x, y, stratify = y, test_size = 0.2,  random_state=42)"
   ]
  },
  {
   "cell_type": "code",
   "execution_count": 3,
   "id": "39709b39-2a6d-4754-a2f3-d5429e9c8599",
   "metadata": {},
   "outputs": [],
   "source": [
    "unique_values_x = set(x.flatten())\n",
    "unique_values_y = set(y)"
   ]
  },
  {
   "cell_type": "code",
   "execution_count": 4,
   "id": "012a49ae-98cc-45aa-8909-f4fd93346cea",
   "metadata": {},
   "outputs": [
    {
     "name": "stdout",
     "output_type": "stream",
     "text": [
      "{1, 2, 3, 4, 5, 6, 7, 8, 9, 10, 11, 12, 13, 14, 15, 16, 17, 18, 19, 20, 21, 22, 23}\n",
      "{0, 1}\n"
     ]
    }
   ],
   "source": [
    "print(unique_values_x)\n",
    "print(unique_values_y)"
   ]
  },
  {
   "cell_type": "code",
   "execution_count": 5,
   "id": "e87c042c-baa6-4667-a928-57d09a10844d",
   "metadata": {},
   "outputs": [
    {
     "name": "stdout",
     "output_type": "stream",
     "text": [
      "WARNING:tensorflow:From C:\\Users\\MVI_lab_2\\AppData\\Local\\Programs\\Python\\Python310\\lib\\site-packages\\keras\\src\\losses.py:2976: The name tf.losses.sparse_softmax_cross_entropy is deprecated. Please use tf.compat.v1.losses.sparse_softmax_cross_entropy instead.\n",
      "\n",
      "WARNING:tensorflow:From C:\\Users\\MVI_lab_2\\AppData\\Local\\Programs\\Python\\Python310\\lib\\site-packages\\keras\\src\\backend.py:1398: The name tf.executing_eagerly_outside_functions is deprecated. Please use tf.compat.v1.executing_eagerly_outside_functions instead.\n",
      "\n",
      "WARNING:tensorflow:From C:\\Users\\MVI_lab_2\\AppData\\Local\\Programs\\Python\\Python310\\lib\\site-packages\\keras\\src\\backend.py:6642: The name tf.nn.max_pool is deprecated. Please use tf.nn.max_pool2d instead.\n",
      "\n",
      "Model: \"model\"\n",
      "__________________________________________________________________________________________________\n",
      " Layer (type)                Output Shape                 Param #   Connected to                  \n",
      "==================================================================================================\n",
      " input_1 (InputLayer)        [(None, 460)]                0         []                            \n",
      "                                                                                                  \n",
      " embedding (Embedding)       (None, 460, 16)              384       ['input_1[0][0]']             \n",
      "                                                                                                  \n",
      " conv1d (Conv1D)             (None, 460, 16)              2576      ['embedding[0][0]']           \n",
      "                                                                                                  \n",
      " max_pooling1d_1 (MaxPoolin  (None, 230, 16)              0         ['embedding[0][0]']           \n",
      " g1D)                                                                                             \n",
      "                                                                                                  \n",
      " batch_normalization (Batch  (None, 460, 16)              64        ['conv1d[0][0]']              \n",
      " Normalization)                                                                                   \n",
      "                                                                                                  \n",
      " conv1d_1 (Conv1D)           (None, 230, 32)              5152      ['max_pooling1d_1[0][0]']     \n",
      "                                                                                                  \n",
      " re_lu (ReLU)                (None, 460, 16)              0         ['batch_normalization[0][0]'] \n",
      "                                                                                                  \n",
      " batch_normalization_1 (Bat  (None, 230, 32)              128       ['conv1d_1[0][0]']            \n",
      " chNormalization)                                                                                 \n",
      "                                                                                                  \n",
      " max_pooling1d (MaxPooling1  (None, 230, 16)              0         ['re_lu[0][0]']               \n",
      " D)                                                                                               \n",
      "                                                                                                  \n",
      " re_lu_1 (ReLU)              (None, 230, 32)              0         ['batch_normalization_1[0][0]'\n",
      "                                                                    ]                             \n",
      "                                                                                                  \n",
      " concatenate (Concatenate)   (None, 230, 48)              0         ['max_pooling1d[0][0]',       \n",
      "                                                                     're_lu_1[0][0]']             \n",
      "                                                                                                  \n",
      " conv1d_11 (Conv1D)          (None, 230, 16)              7696      ['concatenate[0][0]']         \n",
      "                                                                                                  \n",
      " max_pooling1d_2 (MaxPoolin  (None, 115, 32)              0         ['re_lu_1[0][0]']             \n",
      " g1D)                                                                                             \n",
      "                                                                                                  \n",
      " max_pooling1d_5 (MaxPoolin  (None, 115, 16)              0         ['max_pooling1d_1[0][0]']     \n",
      " g1D)                                                                                             \n",
      "                                                                                                  \n",
      " batch_normalization_11 (Ba  (None, 230, 16)              64        ['conv1d_11[0][0]']           \n",
      " tchNormalization)                                                                                \n",
      "                                                                                                  \n",
      " conv1d_2 (Conv1D)           (None, 115, 32)              10272     ['max_pooling1d_2[0][0]']     \n",
      "                                                                                                  \n",
      " conv1d_5 (Conv1D)           (None, 115, 64)              10304     ['max_pooling1d_5[0][0]']     \n",
      "                                                                                                  \n",
      " re_lu_11 (ReLU)             (None, 230, 16)              0         ['batch_normalization_11[0][0]\n",
      "                                                                    ']                            \n",
      "                                                                                                  \n",
      " batch_normalization_2 (Bat  (None, 115, 32)              128       ['conv1d_2[0][0]']            \n",
      " chNormalization)                                                                                 \n",
      "                                                                                                  \n",
      " batch_normalization_5 (Bat  (None, 115, 64)              256       ['conv1d_5[0][0]']            \n",
      " chNormalization)                                                                                 \n",
      "                                                                                                  \n",
      " max_pooling1d_11 (MaxPooli  (None, 115, 16)              0         ['re_lu_11[0][0]']            \n",
      " ng1D)                                                                                            \n",
      "                                                                                                  \n",
      " re_lu_2 (ReLU)              (None, 115, 32)              0         ['batch_normalization_2[0][0]'\n",
      "                                                                    ]                             \n",
      "                                                                                                  \n",
      " re_lu_5 (ReLU)              (None, 115, 64)              0         ['batch_normalization_5[0][0]'\n",
      "                                                                    ]                             \n",
      "                                                                                                  \n",
      " concatenate_1 (Concatenate  (None, 115, 112)             0         ['max_pooling1d_11[0][0]',    \n",
      " )                                                                   're_lu_2[0][0]',             \n",
      "                                                                     're_lu_5[0][0]']             \n",
      "                                                                                                  \n",
      " conv1d_12 (Conv1D)          (None, 115, 16)              17936     ['concatenate_1[0][0]']       \n",
      "                                                                                                  \n",
      " max_pooling1d_3 (MaxPoolin  (None, 57, 32)               0         ['re_lu_2[0][0]']             \n",
      " g1D)                                                                                             \n",
      "                                                                                                  \n",
      " max_pooling1d_6 (MaxPoolin  (None, 57, 64)               0         ['re_lu_5[0][0]']             \n",
      " g1D)                                                                                             \n",
      "                                                                                                  \n"
     ]
    },
    {
     "name": "stdout",
     "output_type": "stream",
     "text": [
      " max_pooling1d_8 (MaxPoolin  (None, 57, 16)               0         ['max_pooling1d_5[0][0]']     \n",
      " g1D)                                                                                             \n",
      "                                                                                                  \n",
      " batch_normalization_12 (Ba  (None, 115, 16)              64        ['conv1d_12[0][0]']           \n",
      " tchNormalization)                                                                                \n",
      "                                                                                                  \n",
      " conv1d_3 (Conv1D)           (None, 57, 32)               10272     ['max_pooling1d_3[0][0]']     \n",
      "                                                                                                  \n",
      " conv1d_6 (Conv1D)           (None, 57, 64)               41024     ['max_pooling1d_6[0][0]']     \n",
      "                                                                                                  \n",
      " conv1d_8 (Conv1D)           (None, 57, 128)              20608     ['max_pooling1d_8[0][0]']     \n",
      "                                                                                                  \n",
      " re_lu_12 (ReLU)             (None, 115, 16)              0         ['batch_normalization_12[0][0]\n",
      "                                                                    ']                            \n",
      "                                                                                                  \n",
      " batch_normalization_3 (Bat  (None, 57, 32)               128       ['conv1d_3[0][0]']            \n",
      " chNormalization)                                                                                 \n",
      "                                                                                                  \n",
      " batch_normalization_6 (Bat  (None, 57, 64)               256       ['conv1d_6[0][0]']            \n",
      " chNormalization)                                                                                 \n",
      "                                                                                                  \n",
      " batch_normalization_8 (Bat  (None, 57, 128)              512       ['conv1d_8[0][0]']            \n",
      " chNormalization)                                                                                 \n",
      "                                                                                                  \n",
      " max_pooling1d_12 (MaxPooli  (None, 57, 16)               0         ['re_lu_12[0][0]']            \n",
      " ng1D)                                                                                            \n",
      "                                                                                                  \n",
      " re_lu_3 (ReLU)              (None, 57, 32)               0         ['batch_normalization_3[0][0]'\n",
      "                                                                    ]                             \n",
      "                                                                                                  \n",
      " re_lu_6 (ReLU)              (None, 57, 64)               0         ['batch_normalization_6[0][0]'\n",
      "                                                                    ]                             \n",
      "                                                                                                  \n",
      " re_lu_8 (ReLU)              (None, 57, 128)              0         ['batch_normalization_8[0][0]'\n",
      "                                                                    ]                             \n",
      "                                                                                                  \n",
      " concatenate_2 (Concatenate  (None, 57, 240)              0         ['max_pooling1d_12[0][0]',    \n",
      " )                                                                   're_lu_3[0][0]',             \n",
      "                                                                     're_lu_6[0][0]',             \n",
      "                                                                     're_lu_8[0][0]']             \n",
      "                                                                                                  \n",
      " conv1d_13 (Conv1D)          (None, 57, 16)               38416     ['concatenate_2[0][0]']       \n",
      "                                                                                                  \n",
      " max_pooling1d_4 (MaxPoolin  (None, 28, 32)               0         ['re_lu_3[0][0]']             \n",
      " g1D)                                                                                             \n",
      "                                                                                                  \n",
      " max_pooling1d_7 (MaxPoolin  (None, 28, 64)               0         ['re_lu_6[0][0]']             \n",
      " g1D)                                                                                             \n",
      "                                                                                                  \n",
      " max_pooling1d_9 (MaxPoolin  (None, 28, 128)              0         ['re_lu_8[0][0]']             \n",
      " g1D)                                                                                             \n",
      "                                                                                                  \n",
      " max_pooling1d_10 (MaxPooli  (None, 28, 16)               0         ['max_pooling1d_8[0][0]']     \n",
      " ng1D)                                                                                            \n",
      "                                                                                                  \n",
      " batch_normalization_13 (Ba  (None, 57, 16)               64        ['conv1d_13[0][0]']           \n",
      " tchNormalization)                                                                                \n",
      "                                                                                                  \n",
      " conv1d_4 (Conv1D)           (None, 28, 32)               10272     ['max_pooling1d_4[0][0]']     \n",
      "                                                                                                  \n",
      " conv1d_7 (Conv1D)           (None, 28, 64)               41024     ['max_pooling1d_7[0][0]']     \n",
      "                                                                                                  \n",
      " conv1d_9 (Conv1D)           (None, 28, 128)              163968    ['max_pooling1d_9[0][0]']     \n",
      "                                                                                                  \n",
      " conv1d_10 (Conv1D)          (None, 28, 256)              41216     ['max_pooling1d_10[0][0]']    \n",
      "                                                                                                  \n",
      " re_lu_13 (ReLU)             (None, 57, 16)               0         ['batch_normalization_13[0][0]\n",
      "                                                                    ']                            \n",
      "                                                                                                  \n",
      " batch_normalization_4 (Bat  (None, 28, 32)               128       ['conv1d_4[0][0]']            \n",
      " chNormalization)                                                                                 \n",
      "                                                                                                  \n",
      " batch_normalization_7 (Bat  (None, 28, 64)               256       ['conv1d_7[0][0]']            \n",
      " chNormalization)                                                                                 \n",
      "                                                                                                  \n",
      " batch_normalization_9 (Bat  (None, 28, 128)              512       ['conv1d_9[0][0]']            \n",
      " chNormalization)                                                                                 \n",
      "                                                                                                  \n",
      " batch_normalization_10 (Ba  (None, 28, 256)              1024      ['conv1d_10[0][0]']           \n",
      " tchNormalization)                                                                                \n",
      "                                                                                                  \n",
      " max_pooling1d_13 (MaxPooli  (None, 28, 16)               0         ['re_lu_13[0][0]']            \n",
      " ng1D)                                                                                            \n"
     ]
    },
    {
     "name": "stdout",
     "output_type": "stream",
     "text": [
      "                                                                                                  \n",
      " re_lu_4 (ReLU)              (None, 28, 32)               0         ['batch_normalization_4[0][0]'\n",
      "                                                                    ]                             \n",
      "                                                                                                  \n",
      " re_lu_7 (ReLU)              (None, 28, 64)               0         ['batch_normalization_7[0][0]'\n",
      "                                                                    ]                             \n",
      "                                                                                                  \n",
      " re_lu_9 (ReLU)              (None, 28, 128)              0         ['batch_normalization_9[0][0]'\n",
      "                                                                    ]                             \n",
      "                                                                                                  \n",
      " re_lu_10 (ReLU)             (None, 28, 256)              0         ['batch_normalization_10[0][0]\n",
      "                                                                    ']                            \n",
      "                                                                                                  \n",
      " concatenate_3 (Concatenate  (None, 28, 496)              0         ['max_pooling1d_13[0][0]',    \n",
      " )                                                                   're_lu_4[0][0]',             \n",
      "                                                                     're_lu_7[0][0]',             \n",
      "                                                                     're_lu_9[0][0]',             \n",
      "                                                                     're_lu_10[0][0]']            \n",
      "                                                                                                  \n",
      " conv1d_14 (Conv1D)          (None, 28, 256)              1270016   ['concatenate_3[0][0]']       \n",
      "                                                                                                  \n",
      " batch_normalization_14 (Ba  (None, 28, 256)              1024      ['conv1d_14[0][0]']           \n",
      " tchNormalization)                                                                                \n",
      "                                                                                                  \n",
      " re_lu_14 (ReLU)             (None, 28, 256)              0         ['batch_normalization_14[0][0]\n",
      "                                                                    ']                            \n",
      "                                                                                                  \n",
      " flatten (Flatten)           (None, 7168)                 0         ['re_lu_14[0][0]']            \n",
      "                                                                                                  \n",
      " dense (Dense)               (None, 32)                   229408    ['flatten[0][0]']             \n",
      "                                                                                                  \n",
      " dense_1 (Dense)             (None, 1)                    33        ['dense[0][0]']               \n",
      "                                                                                                  \n",
      "==================================================================================================\n",
      "Total params: 1925185 (7.34 MB)\n",
      "Trainable params: 1922881 (7.34 MB)\n",
      "Non-trainable params: 2304 (9.00 KB)\n",
      "__________________________________________________________________________________________________\n"
     ]
    }
   ],
   "source": [
    "from keras.layers import Conv1D, BatchNormalization, Concatenate, ReLU, MaxPooling1D, Flatten, Dense, Embedding\n",
    "from keras import Input, Model\n",
    "from keras.optimizers import Adam\n",
    "\n",
    "def get_block(inp, filter):\n",
    "  cnn = Conv1D(kernel_size=10, filters=filter, padding='same')(inp)\n",
    "  bn = BatchNormalization()(cnn)\n",
    "  relu = ReLU()(bn)\n",
    "  return relu\n",
    "\n",
    "def get_model():\n",
    "  ip = Input(shape=(460,))\n",
    "  embedding = Embedding(input_dim=24, output_dim=16)(ip) \n",
    "\n",
    "  branch1_1 = MaxPooling1D(pool_size=2)(get_block(embedding, 16))\n",
    "\n",
    "  branch2_ip = MaxPooling1D(pool_size=2)(embedding)\n",
    "  branch2_1 = get_block(branch2_ip, 32)\n",
    "  branch2_2 = get_block(MaxPooling1D(pool_size=2)(branch2_1), 32)\n",
    "  branch2_3 = get_block(MaxPooling1D(pool_size=2)(branch2_2), 32)\n",
    "  branch2_4 = get_block(MaxPooling1D(pool_size=2)(branch2_3), 32)\n",
    "\n",
    "  branch3_ip = MaxPooling1D(pool_size=2)(branch2_ip)\n",
    "  branch3_1 = get_block(branch3_ip, 64)\n",
    "  branch3_2 = get_block(MaxPooling1D(pool_size=2)(branch3_1), 64)\n",
    "  branch3_3 = get_block(MaxPooling1D(pool_size=2)(branch3_2), 64)\n",
    "\n",
    "  branch4_ip = MaxPooling1D(pool_size=2)(branch3_ip)\n",
    "  branch4_1 = get_block(branch4_ip, 128)\n",
    "  branch4_2 = get_block(MaxPooling1D(pool_size=2)(branch4_1), 128)\n",
    "\n",
    "  branch5_ip = MaxPooling1D(pool_size=2)(branch4_ip)\n",
    "  branch5_1 = get_block(branch5_ip, 256)\n",
    "\n",
    "  branch1_2 = MaxPooling1D(pool_size=2)(get_block(Concatenate()([branch1_1, branch2_1]), 16))\n",
    "  branch1_3 = MaxPooling1D(pool_size=2)(get_block(Concatenate()([branch1_2, branch2_2, branch3_1]), 16))\n",
    "  branch1_4 = MaxPooling1D(pool_size=2)(get_block(Concatenate()([branch1_3, branch2_3, branch3_2, branch4_1]), 16))\n",
    "  branch1_5 = get_block(Concatenate()([branch1_4, branch2_4, branch3_3, branch4_2, branch5_1]), 256)\n",
    "\n",
    "  flatten = Flatten()(branch1_5)\n",
    "  dense = Dense(32, activation='relu')(flatten)\n",
    "  op = Dense(1, activation='sigmoid')(dense) # Binary classification, so 1 output neuron with sigmoid activation\n",
    "  model = Model(inputs=ip, outputs=op)\n",
    "  return model\n",
    "\n",
    "model = get_model()\n",
    "model.summary()\n"
   ]
  },
  {
   "cell_type": "code",
   "execution_count": 6,
   "id": "bf1208d5-0b61-4dfb-b73d-610f5a55a5c8",
   "metadata": {},
   "outputs": [],
   "source": [
    "model.compile(optimizer=Adam(), loss='binary_crossentropy', metrics=['accuracy'])"
   ]
  },
  {
   "cell_type": "code",
   "execution_count": 7,
   "id": "fd382ac9-a805-40e8-8d45-75caff5ddfc6",
   "metadata": {},
   "outputs": [
    {
     "name": "stdout",
     "output_type": "stream",
     "text": [
      "Epoch 1/25\n",
      "WARNING:tensorflow:From C:\\Users\\MVI_lab_2\\AppData\\Local\\Programs\\Python\\Python310\\lib\\site-packages\\keras\\src\\utils\\tf_utils.py:492: The name tf.ragged.RaggedTensorValue is deprecated. Please use tf.compat.v1.ragged.RaggedTensorValue instead.\n",
      "\n",
      "WARNING:tensorflow:From C:\\Users\\MVI_lab_2\\AppData\\Local\\Programs\\Python\\Python310\\lib\\site-packages\\keras\\src\\engine\\base_layer_utils.py:384: The name tf.executing_eagerly_outside_functions is deprecated. Please use tf.compat.v1.executing_eagerly_outside_functions instead.\n",
      "\n",
      "52429/52429 [==============================] - ETA: 0s - loss: 0.2886 - accuracy: 0.8780\n",
      "Epoch 1: val_accuracy improved from -inf to 0.91124, saving model to C:/Users/MVI_lab_2/Desktop/sezier_detection_LSTM/final_model/ModelWeights\\1dcnn_final_model_binaryclass_best_weights.h5\n",
      "\n",
      "Epoch 1: val_accuracy improved from -inf to 0.91124, saving model to C:/Users/MVI_lab_2/Desktop/sezier_detection_LSTM/final_model/Model\\1dcnn_final_binaryclass_best.h5\n",
      "52429/52429 [==============================] - 2134s 41ms/step - loss: 0.2886 - accuracy: 0.8780 - val_loss: 0.2198 - val_accuracy: 0.9112\n",
      "Epoch 2/25\n"
     ]
    },
    {
     "name": "stderr",
     "output_type": "stream",
     "text": [
      "C:\\Users\\MVI_lab_2\\AppData\\Local\\Programs\\Python\\Python310\\lib\\site-packages\\keras\\src\\engine\\training.py:3103: UserWarning: You are saving your model as an HDF5 file via `model.save()`. This file format is considered legacy. We recommend using instead the native Keras format, e.g. `model.save('my_model.keras')`.\n",
      "  saving_api.save_model(\n"
     ]
    },
    {
     "name": "stdout",
     "output_type": "stream",
     "text": [
      "52429/52429 [==============================] - ETA: 0s - loss: 0.1894 - accuracy: 0.9243\n",
      "Epoch 2: val_accuracy improved from 0.91124 to 0.93288, saving model to C:/Users/MVI_lab_2/Desktop/sezier_detection_LSTM/final_model/ModelWeights\\1dcnn_final_model_binaryclass_best_weights.h5\n",
      "\n",
      "Epoch 2: val_accuracy improved from 0.91124 to 0.93288, saving model to C:/Users/MVI_lab_2/Desktop/sezier_detection_LSTM/final_model/Model\\1dcnn_final_binaryclass_best.h5\n",
      "52429/52429 [==============================] - 2084s 40ms/step - loss: 0.1894 - accuracy: 0.9243 - val_loss: 0.1702 - val_accuracy: 0.9329\n",
      "Epoch 3/25\n",
      "52429/52429 [==============================] - ETA: 0s - loss: 0.1369 - accuracy: 0.9464\n",
      "Epoch 3: val_accuracy improved from 0.93288 to 0.94561, saving model to C:/Users/MVI_lab_2/Desktop/sezier_detection_LSTM/final_model/ModelWeights\\1dcnn_final_model_binaryclass_best_weights.h5\n",
      "\n",
      "Epoch 3: val_accuracy improved from 0.93288 to 0.94561, saving model to C:/Users/MVI_lab_2/Desktop/sezier_detection_LSTM/final_model/Model\\1dcnn_final_binaryclass_best.h5\n",
      "52429/52429 [==============================] - 2086s 40ms/step - loss: 0.1369 - accuracy: 0.9464 - val_loss: 0.1394 - val_accuracy: 0.9456\n",
      "Epoch 4/25\n",
      "52429/52429 [==============================] - ETA: 0s - loss: 0.1007 - accuracy: 0.9612\n",
      "Epoch 4: val_accuracy improved from 0.94561 to 0.95198, saving model to C:/Users/MVI_lab_2/Desktop/sezier_detection_LSTM/final_model/ModelWeights\\1dcnn_final_model_binaryclass_best_weights.h5\n",
      "\n",
      "Epoch 4: val_accuracy improved from 0.94561 to 0.95198, saving model to C:/Users/MVI_lab_2/Desktop/sezier_detection_LSTM/final_model/Model\\1dcnn_final_binaryclass_best.h5\n",
      "52429/52429 [==============================] - 2125s 41ms/step - loss: 0.1007 - accuracy: 0.9612 - val_loss: 0.1254 - val_accuracy: 0.9520\n",
      "Epoch 5/25\n",
      "52429/52429 [==============================] - ETA: 0s - loss: 0.0766 - accuracy: 0.9708\n",
      "Epoch 5: val_accuracy improved from 0.95198 to 0.95836, saving model to C:/Users/MVI_lab_2/Desktop/sezier_detection_LSTM/final_model/ModelWeights\\1dcnn_final_model_binaryclass_best_weights.h5\n",
      "\n",
      "Epoch 5: val_accuracy improved from 0.95198 to 0.95836, saving model to C:/Users/MVI_lab_2/Desktop/sezier_detection_LSTM/final_model/Model\\1dcnn_final_binaryclass_best.h5\n",
      "52429/52429 [==============================] - 2133s 41ms/step - loss: 0.0766 - accuracy: 0.9708 - val_loss: 0.1131 - val_accuracy: 0.9584\n",
      "Epoch 6/25\n",
      "52429/52429 [==============================] - ETA: 0s - loss: 0.0607 - accuracy: 0.9769\n",
      "Epoch 6: val_accuracy improved from 0.95836 to 0.96129, saving model to C:/Users/MVI_lab_2/Desktop/sezier_detection_LSTM/final_model/ModelWeights\\1dcnn_final_model_binaryclass_best_weights.h5\n",
      "\n",
      "Epoch 6: val_accuracy improved from 0.95836 to 0.96129, saving model to C:/Users/MVI_lab_2/Desktop/sezier_detection_LSTM/final_model/Model\\1dcnn_final_binaryclass_best.h5\n",
      "52429/52429 [==============================] - 2102s 40ms/step - loss: 0.0607 - accuracy: 0.9769 - val_loss: 0.1058 - val_accuracy: 0.9613\n",
      "Epoch 7/25\n",
      "52429/52429 [==============================] - ETA: 0s - loss: 0.0496 - accuracy: 0.9814\n",
      "Epoch 7: val_accuracy improved from 0.96129 to 0.96296, saving model to C:/Users/MVI_lab_2/Desktop/sezier_detection_LSTM/final_model/ModelWeights\\1dcnn_final_model_binaryclass_best_weights.h5\n",
      "\n",
      "Epoch 7: val_accuracy improved from 0.96129 to 0.96296, saving model to C:/Users/MVI_lab_2/Desktop/sezier_detection_LSTM/final_model/Model\\1dcnn_final_binaryclass_best.h5\n",
      "52429/52429 [==============================] - 2105s 40ms/step - loss: 0.0496 - accuracy: 0.9814 - val_loss: 0.1058 - val_accuracy: 0.9630\n",
      "Epoch 8/25\n",
      "52428/52429 [============================>.] - ETA: 0s - loss: 0.0418 - accuracy: 0.9843\n",
      "Epoch 8: val_accuracy improved from 0.96296 to 0.96456, saving model to C:/Users/MVI_lab_2/Desktop/sezier_detection_LSTM/final_model/ModelWeights\\1dcnn_final_model_binaryclass_best_weights.h5\n",
      "\n",
      "Epoch 8: val_accuracy improved from 0.96296 to 0.96456, saving model to C:/Users/MVI_lab_2/Desktop/sezier_detection_LSTM/final_model/Model\\1dcnn_final_binaryclass_best.h5\n",
      "52429/52429 [==============================] - 2113s 40ms/step - loss: 0.0418 - accuracy: 0.9843 - val_loss: 0.1045 - val_accuracy: 0.9646\n",
      "Epoch 9/25\n",
      "52429/52429 [==============================] - ETA: 0s - loss: 0.0362 - accuracy: 0.9866\n",
      "Epoch 9: val_accuracy improved from 0.96456 to 0.96525, saving model to C:/Users/MVI_lab_2/Desktop/sezier_detection_LSTM/final_model/ModelWeights\\1dcnn_final_model_binaryclass_best_weights.h5\n",
      "\n",
      "Epoch 9: val_accuracy improved from 0.96456 to 0.96525, saving model to C:/Users/MVI_lab_2/Desktop/sezier_detection_LSTM/final_model/Model\\1dcnn_final_binaryclass_best.h5\n",
      "52429/52429 [==============================] - 2102s 40ms/step - loss: 0.0362 - accuracy: 0.9866 - val_loss: 0.1048 - val_accuracy: 0.9652\n",
      "Epoch 10/25\n",
      "52428/52429 [============================>.] - ETA: 0s - loss: 0.0319 - accuracy: 0.9883\n",
      "Epoch 10: val_accuracy improved from 0.96525 to 0.96691, saving model to C:/Users/MVI_lab_2/Desktop/sezier_detection_LSTM/final_model/ModelWeights\\1dcnn_final_model_binaryclass_best_weights.h5\n",
      "\n",
      "Epoch 10: val_accuracy improved from 0.96525 to 0.96691, saving model to C:/Users/MVI_lab_2/Desktop/sezier_detection_LSTM/final_model/Model\\1dcnn_final_binaryclass_best.h5\n",
      "52429/52429 [==============================] - 2096s 40ms/step - loss: 0.0319 - accuracy: 0.9883 - val_loss: 0.1013 - val_accuracy: 0.9669\n",
      "Epoch 11/25\n",
      "52429/52429 [==============================] - ETA: 0s - loss: 0.0285 - accuracy: 0.9895\n",
      "Epoch 11: val_accuracy improved from 0.96691 to 0.96727, saving model to C:/Users/MVI_lab_2/Desktop/sezier_detection_LSTM/final_model/ModelWeights\\1dcnn_final_model_binaryclass_best_weights.h5\n",
      "\n",
      "Epoch 11: val_accuracy improved from 0.96691 to 0.96727, saving model to C:/Users/MVI_lab_2/Desktop/sezier_detection_LSTM/final_model/Model\\1dcnn_final_binaryclass_best.h5\n",
      "52429/52429 [==============================] - 2093s 40ms/step - loss: 0.0285 - accuracy: 0.9895 - val_loss: 0.1054 - val_accuracy: 0.9673\n",
      "Epoch 12/25\n",
      "52428/52429 [============================>.] - ETA: 0s - loss: 0.0257 - accuracy: 0.9906\n",
      "Epoch 12: val_accuracy improved from 0.96727 to 0.96887, saving model to C:/Users/MVI_lab_2/Desktop/sezier_detection_LSTM/final_model/ModelWeights\\1dcnn_final_model_binaryclass_best_weights.h5\n",
      "\n",
      "Epoch 12: val_accuracy improved from 0.96727 to 0.96887, saving model to C:/Users/MVI_lab_2/Desktop/sezier_detection_LSTM/final_model/Model\\1dcnn_final_binaryclass_best.h5\n",
      "52429/52429 [==============================] - 2087s 40ms/step - loss: 0.0257 - accuracy: 0.9906 - val_loss: 0.1023 - val_accuracy: 0.9689\n",
      "Epoch 13/25\n",
      "52428/52429 [============================>.] - ETA: 0s - loss: 0.0235 - accuracy: 0.9915\n",
      "Epoch 13: val_accuracy did not improve from 0.96887\n",
      "\n",
      "Epoch 13: val_accuracy did not improve from 0.96887\n",
      "52429/52429 [==============================] - 2078s 40ms/step - loss: 0.0235 - accuracy: 0.9915 - val_loss: 0.1023 - val_accuracy: 0.9686\n",
      "Epoch 14/25\n",
      "52428/52429 [============================>.] - ETA: 0s - loss: 0.0219 - accuracy: 0.9921\n",
      "Epoch 14: val_accuracy improved from 0.96887 to 0.96967, saving model to C:/Users/MVI_lab_2/Desktop/sezier_detection_LSTM/final_model/ModelWeights\\1dcnn_final_model_binaryclass_best_weights.h5\n",
      "\n",
      "Epoch 14: val_accuracy improved from 0.96887 to 0.96967, saving model to C:/Users/MVI_lab_2/Desktop/sezier_detection_LSTM/final_model/Model\\1dcnn_final_binaryclass_best.h5\n",
      "52429/52429 [==============================] - 2081s 40ms/step - loss: 0.0219 - accuracy: 0.9921 - val_loss: 0.1035 - val_accuracy: 0.9697\n",
      "Epoch 15/25\n",
      "52429/52429 [==============================] - ETA: 0s - loss: 0.0204 - accuracy: 0.9927\n",
      "Epoch 15: val_accuracy did not improve from 0.96967\n",
      "\n",
      "Epoch 15: val_accuracy did not improve from 0.96967\n",
      "52429/52429 [==============================] - 2077s 40ms/step - loss: 0.0204 - accuracy: 0.9927 - val_loss: 0.1076 - val_accuracy: 0.9695\n",
      "Epoch 16/25\n",
      "52429/52429 [==============================] - ETA: 0s - loss: 0.0190 - accuracy: 0.9932\n",
      "Epoch 16: val_accuracy improved from 0.96967 to 0.97045, saving model to C:/Users/MVI_lab_2/Desktop/sezier_detection_LSTM/final_model/ModelWeights\\1dcnn_final_model_binaryclass_best_weights.h5\n"
     ]
    },
    {
     "name": "stdout",
     "output_type": "stream",
     "text": [
      "\n",
      "Epoch 16: val_accuracy improved from 0.96967 to 0.97045, saving model to C:/Users/MVI_lab_2/Desktop/sezier_detection_LSTM/final_model/Model\\1dcnn_final_binaryclass_best.h5\n",
      "52429/52429 [==============================] - 2141s 41ms/step - loss: 0.0190 - accuracy: 0.9932 - val_loss: 0.0996 - val_accuracy: 0.9705\n",
      "Epoch 17/25\n",
      "52428/52429 [============================>.] - ETA: 0s - loss: 0.0176 - accuracy: 0.9937\n",
      "Epoch 17: val_accuracy improved from 0.97045 to 0.97133, saving model to C:/Users/MVI_lab_2/Desktop/sezier_detection_LSTM/final_model/ModelWeights\\1dcnn_final_model_binaryclass_best_weights.h5\n",
      "\n",
      "Epoch 17: val_accuracy improved from 0.97045 to 0.97133, saving model to C:/Users/MVI_lab_2/Desktop/sezier_detection_LSTM/final_model/Model\\1dcnn_final_binaryclass_best.h5\n",
      "52429/52429 [==============================] - 2117s 40ms/step - loss: 0.0176 - accuracy: 0.9937 - val_loss: 0.1013 - val_accuracy: 0.9713\n",
      "Epoch 18/25\n",
      "52429/52429 [==============================] - ETA: 0s - loss: 0.0167 - accuracy: 0.9941\n",
      "Epoch 18: val_accuracy did not improve from 0.97133\n",
      "\n",
      "Epoch 18: val_accuracy did not improve from 0.97133\n",
      "52429/52429 [==============================] - 2083s 40ms/step - loss: 0.0167 - accuracy: 0.9941 - val_loss: 0.1049 - val_accuracy: 0.9705\n",
      "Epoch 19/25\n",
      "52429/52429 [==============================] - ETA: 0s - loss: 0.0156 - accuracy: 0.9944\n",
      "Epoch 19: val_accuracy did not improve from 0.97133\n",
      "\n",
      "Epoch 19: val_accuracy did not improve from 0.97133\n",
      "52429/52429 [==============================] - 2083s 40ms/step - loss: 0.0156 - accuracy: 0.9944 - val_loss: 0.1072 - val_accuracy: 0.9702\n",
      "Epoch 20/25\n",
      "52428/52429 [============================>.] - ETA: 0s - loss: 0.0151 - accuracy: 0.9946\n",
      "Epoch 20: val_accuracy improved from 0.97133 to 0.97141, saving model to C:/Users/MVI_lab_2/Desktop/sezier_detection_LSTM/final_model/ModelWeights\\1dcnn_final_model_binaryclass_best_weights.h5\n",
      "\n",
      "Epoch 20: val_accuracy improved from 0.97133 to 0.97141, saving model to C:/Users/MVI_lab_2/Desktop/sezier_detection_LSTM/final_model/Model\\1dcnn_final_binaryclass_best.h5\n",
      "52429/52429 [==============================] - 2081s 40ms/step - loss: 0.0151 - accuracy: 0.9946 - val_loss: 0.1073 - val_accuracy: 0.9714\n",
      "Epoch 21/25\n",
      "52429/52429 [==============================] - ETA: 0s - loss: 0.0142 - accuracy: 0.9949\n",
      "Epoch 21: val_accuracy improved from 0.97141 to 0.97161, saving model to C:/Users/MVI_lab_2/Desktop/sezier_detection_LSTM/final_model/ModelWeights\\1dcnn_final_model_binaryclass_best_weights.h5\n",
      "\n",
      "Epoch 21: val_accuracy improved from 0.97141 to 0.97161, saving model to C:/Users/MVI_lab_2/Desktop/sezier_detection_LSTM/final_model/Model\\1dcnn_final_binaryclass_best.h5\n",
      "52429/52429 [==============================] - 2084s 40ms/step - loss: 0.0142 - accuracy: 0.9949 - val_loss: 0.1055 - val_accuracy: 0.9716\n",
      "Epoch 22/25\n",
      "52428/52429 [============================>.] - ETA: 0s - loss: 0.0136 - accuracy: 0.9952\n",
      "Epoch 22: val_accuracy improved from 0.97161 to 0.97181, saving model to C:/Users/MVI_lab_2/Desktop/sezier_detection_LSTM/final_model/ModelWeights\\1dcnn_final_model_binaryclass_best_weights.h5\n",
      "\n",
      "Epoch 22: val_accuracy improved from 0.97161 to 0.97181, saving model to C:/Users/MVI_lab_2/Desktop/sezier_detection_LSTM/final_model/Model\\1dcnn_final_binaryclass_best.h5\n",
      "52429/52429 [==============================] - 2077s 40ms/step - loss: 0.0136 - accuracy: 0.9952 - val_loss: 0.1090 - val_accuracy: 0.9718\n",
      "Epoch 23/25\n",
      "52428/52429 [============================>.] - ETA: 0s - loss: 0.0129 - accuracy: 0.9955\n",
      "Epoch 23: val_accuracy improved from 0.97181 to 0.97201, saving model to C:/Users/MVI_lab_2/Desktop/sezier_detection_LSTM/final_model/ModelWeights\\1dcnn_final_model_binaryclass_best_weights.h5\n",
      "\n",
      "Epoch 23: val_accuracy improved from 0.97181 to 0.97201, saving model to C:/Users/MVI_lab_2/Desktop/sezier_detection_LSTM/final_model/Model\\1dcnn_final_binaryclass_best.h5\n",
      "52429/52429 [==============================] - 2081s 40ms/step - loss: 0.0129 - accuracy: 0.9955 - val_loss: 0.1063 - val_accuracy: 0.9720\n",
      "Epoch 24/25\n",
      "52428/52429 [============================>.] - ETA: 0s - loss: 0.0125 - accuracy: 0.9956\n",
      "Epoch 24: val_accuracy did not improve from 0.97201\n",
      "\n",
      "Epoch 24: val_accuracy did not improve from 0.97201\n",
      "52429/52429 [==============================] - 2067s 39ms/step - loss: 0.0125 - accuracy: 0.9956 - val_loss: 0.1152 - val_accuracy: 0.9719\n",
      "Epoch 25/25\n",
      "52428/52429 [============================>.] - ETA: 0s - loss: 0.0120 - accuracy: 0.9957\n",
      "Epoch 25: val_accuracy improved from 0.97201 to 0.97342, saving model to C:/Users/MVI_lab_2/Desktop/sezier_detection_LSTM/final_model/ModelWeights\\1dcnn_final_model_binaryclass_best_weights.h5\n",
      "\n",
      "Epoch 25: val_accuracy improved from 0.97201 to 0.97342, saving model to C:/Users/MVI_lab_2/Desktop/sezier_detection_LSTM/final_model/Model\\1dcnn_final_binaryclass_best.h5\n",
      "52429/52429 [==============================] - 2069s 39ms/step - loss: 0.0120 - accuracy: 0.9957 - val_loss: 0.1005 - val_accuracy: 0.9734\n"
     ]
    }
   ],
   "source": [
    "import os\n",
    "from keras.callbacks import ModelCheckpoint, CSVLogger\n",
    "from keras.models import Sequential\n",
    "# Example model definition and other setup code might go here\n",
    "\n",
    "# Define the directory path for model weights and entire model\n",
    "model_weights_directory = \"C:/Users/MVI_lab_2/Desktop/sezier_detection_LSTM/final_model/ModelWeights/\"\n",
    "model_directory = \"C:/Users/MVI_lab_2/Desktop/sezier_detection_LSTM/final_model/Model/\"\n",
    "\n",
    "# Ensure the directories exist\n",
    "os.makedirs(model_weights_directory, exist_ok=True)\n",
    "os.makedirs(model_directory, exist_ok=True)\n",
    "\n",
    "# Filenames for weights and the entire model\n",
    "# Filenames for weights and the entire model\n",
    "model_weights_filename = \"1dcnn_final_model_binaryclass_best_weights.h5\"\n",
    "model_filename = \"1dcnn_final_binaryclass_best.h5\"  # Update file extension to .keras\n",
    "\n",
    "# Filepaths\n",
    "model_weights_filepath = os.path.join(model_weights_directory, model_weights_filename)\n",
    "model_filepath = os.path.join(model_directory, model_filename)\n",
    "\n",
    "# Callback to save the best model weights\n",
    "checkpoint_weights = ModelCheckpoint(\n",
    "    model_weights_filepath,\n",
    "    monitor='val_accuracy',\n",
    "    verbose=1,\n",
    "    save_best_only=True,\n",
    "    save_weights_only=True,\n",
    "    mode='max'\n",
    ")\n",
    "\n",
    "# Callback to save the best entire model\n",
    "checkpoint_model = ModelCheckpoint(\n",
    "    model_filepath,\n",
    "    monitor='val_accuracy',\n",
    "    verbose=1,\n",
    "    save_best_only=True,\n",
    "    save_weights_only=False,\n",
    "    mode='max'\n",
    ")\n",
    "\n",
    "# Directory path for saving training results\n",
    "results_directory = \"C:/Users/MVI_lab_2/Desktop/sezier_detection_LSTM/final_model/Result/\"\n",
    "os.makedirs(results_directory, exist_ok=True)\n",
    "\n",
    "# Filename for saving training results\n",
    "results_filename = \"1dcnn_final_model_output.csv\"\n",
    "results_filepath = os.path.join(results_directory, results_filename)\n",
    "\n",
    "# CSVLogger callback\n",
    "csv_logger = CSVLogger(results_filepath, separator=',', append=True)\n",
    "\n",
    "# List of callbacks\n",
    "callbacks_list = [checkpoint_weights, checkpoint_model, csv_logger]\n",
    "\n",
    "# Model training (assuming `model` is your model instance)\n",
    "history = model.fit(\n",
    "    x_train, y_train,\n",
    "    validation_data=(x_test, y_test),\n",
    "    epochs=25,\n",
    "    verbose=1,\n",
    "    callbacks=callbacks_list\n",
    ")\n",
    "\n",
    "# Since we are using ModelCheckpoint to save the best model, there's no need to save the model explicitly at the end of training\n"
   ]
  },
  {
   "cell_type": "code",
   "execution_count": 8,
   "id": "b8f7168a-426c-409e-b120-65db0d1e13c2",
   "metadata": {},
   "outputs": [
    {
     "data": {
      "image/png": "[encoded data removed]",
      "text/plain": [
       "<Figure size 432x288 with 1 Axes>"
      ]
     },
     "metadata": {
      "needs_background": "light"
     },
     "output_type": "display_data"
    },
    {
     "data": {
      "image/png": "[encoded data removed]",
      "text/plain": [
       "<Figure size 432x288 with 1 Axes>"
      ]
     },
     "metadata": {
      "needs_background": "light"
     },
     "output_type": "display_data"
    }
   ],
   "source": [
    "import os\n",
    "\n",
    "def plot_history(history, item, save_as=None, file_path=None):\n",
    "    plt.plot(history.history[item], label=item)\n",
    "    plt.plot(history.history[\"val_\" + item], label=\"val_\" + item)\n",
    "    plt.xlabel(\"Epochs\")\n",
    "    plt.ylabel(item)\n",
    "    plt.title(\"Train and Validation {} Over Epochs\".format(item), fontsize=14)\n",
    "    plt.legend()\n",
    "    plt.grid()\n",
    "    if save_as:\n",
    "        if file_path is None:\n",
    "            file_path = os.path.join(os.path.expanduser('~'), 'Desktop', 'pic')\n",
    "        plt.savefig(os.path.join(file_path, save_as + \".png\"))\n",
    "    plt.show()\n",
    "\n",
    "# Plot and save the loss history\n",
    "plot_history(history, \"loss\", save_as=\"1dcnn_final_loss\", file_path=\"C:/Users/MVI_lab_2/Desktop/sezier_detection_LSTM/final_model/images/\")\n",
    "\n",
    "# Plot and save the accuracy history\n",
    "plot_history(history, \"accuracy\", save_as=\"1dcnn_final_accuracy\", file_path=\"C:/Users/MVI_lab_2/Desktop/sezier_detection_LSTM/final_model/images/\")\n"
   ]
  },
  {
   "cell_type": "code",
   "execution_count": 9,
   "id": "14882352",
   "metadata": {},
   "outputs": [
    {
     "name": "stdout",
     "output_type": "stream",
     "text": [
      "13108/13108 [==============================] - 125s 9ms/step\n",
      "Classification Report:\n",
      "              precision    recall  f1-score   support\n",
      "\n",
      "           0       0.97      0.98      0.97    209715\n",
      "           1       0.98      0.97      0.97    209714\n",
      "\n",
      "    accuracy                           0.97    419429\n",
      "   macro avg       0.97      0.97      0.97    419429\n",
      "weighted avg       0.97      0.97      0.97    419429\n",
      "\n",
      "Confusion Matrix:\n",
      "[[204685   5030]\n",
      " [  6118 203596]]\n"
     ]
    },
    {
     "data": {
      "image/png": "[encoded data removed]",
      "text/plain": [
       "<Figure size 432x288 with 2 Axes>"
      ]
     },
     "metadata": {
      "needs_background": "light"
     },
     "output_type": "display_data"
    }
   ],
   "source": [
    "from sklearn.metrics import classification_report, confusion_matrix\n",
    "import matplotlib.pyplot as plt\n",
    "import numpy as np\n",
    "import seaborn as sns  # Added for heatmap visualization\n",
    "\n",
    "# Assuming you have the model already trained and `x_test` and `y_test` data available\n",
    "# Assuming `model` is the trained model\n",
    "\n",
    "# Generate predictions\n",
    "y_pred_prob = model.predict(x_test).ravel()  # Use `.ravel()` if model.predict returns a 2D array for a single output model\n",
    "y_pred = (y_pred_prob > 0.5).astype(int)  # Convert probabilities to class labels based on a 0.5 threshold\n",
    "\n",
    "# Generate classification report and save to file\n",
    "report = classification_report(y_test, y_pred)\n",
    "print(\"Classification Report:\")\n",
    "print(report)\n",
    "\n",
    "# Save classification report to text file\n",
    "with open('C:/Users/MVI_lab_2/Desktop/sezier_detection_LSTM/final_model/images/classification_report.txt', 'w') as f:\n",
    "    f.write(\"Classification Report:\\n\")\n",
    "    f.write(report)\n",
    "\n",
    "# Generate confusion matrix\n",
    "conf_matrix = confusion_matrix(y_test, y_pred)\n",
    "print(\"Confusion Matrix:\")\n",
    "print(conf_matrix)\n",
    "\n",
    "# Plot normalized confusion matrix using Seaborn\n",
    "plt.figure()\n",
    "cm_normalized = conf_matrix.astype('float') / conf_matrix.sum(axis=1)[:, np.newaxis]\n",
    "sns.heatmap(cm_normalized, annot=True, cmap='Blues', xticklabels=['Class 0', 'Class 1'], yticklabels=['Class 0', 'Class 1'])\n",
    "plt.title('Normalized Confusion Matrix')\n",
    "plt.xlabel('Predicted label')\n",
    "plt.ylabel('True label')\n",
    "\n",
    "# Save the confusion matrix plot\n",
    "plt.savefig('C:/Users/MVI_lab_2/Desktop/sezier_detection_LSTM/final_model/images/confusion_matrix.png')\n",
    "\n",
    "plt.show()\n"
   ]
  },
  {
   "cell_type": "code",
   "execution_count": 10,
   "id": "aa7d7bd9",
   "metadata": {},
   "outputs": [
    {
     "name": "stdout",
     "output_type": "stream",
     "text": [
      "13108/13108 [==============================] - 156s 12ms/step\n"
     ]
    },
    {
     "data": {
      "image/png": "[encoded data removed]",
      "text/plain": [
       "<Figure size 432x288 with 1 Axes>"
      ]
     },
     "metadata": {
      "needs_background": "light"
     },
     "output_type": "display_data"
    }
   ],
   "source": [
    "import numpy as np\n",
    "import matplotlib.pyplot as plt\n",
    "from sklearn.metrics import roc_curve, auc\n",
    "\n",
    "def plot_ROC_curves(y_true, y_pred_prob, save_path=None):\n",
    "    fpr = dict()\n",
    "    tpr = dict()\n",
    "    roc_auc = dict()\n",
    "\n",
    "    # Compute ROC curve and ROC area for each class\n",
    "    for i in range(2):\n",
    "        fpr[i], tpr[i], _ = roc_curve(y_true, y_pred_prob)\n",
    "        roc_auc[i] = auc(fpr[i], tpr[i])\n",
    "\n",
    "    # Compute micro-average ROC curve and ROC area\n",
    "    fpr[\"micro\"], tpr[\"micro\"], _ = roc_curve(y_true, y_pred_prob)\n",
    "    roc_auc[\"micro\"] = auc(fpr[\"micro\"], tpr[\"micro\"])\n",
    "\n",
    "    # Compute macro-average ROC curve and ROC area\n",
    "    all_fpr = np.unique(np.concatenate([fpr[i] for i in range(2)]))\n",
    "    mean_tpr = np.zeros_like(all_fpr)\n",
    "    for i in range(2):\n",
    "        mean_tpr += np.interp(all_fpr, fpr[i], tpr[i])\n",
    "    mean_tpr /= 2\n",
    "    fpr[\"macro\"] = all_fpr\n",
    "    tpr[\"macro\"] = mean_tpr\n",
    "    roc_auc[\"macro\"] = auc(fpr[\"macro\"], tpr[\"macro\"])\n",
    "\n",
    "    plt.figure()\n",
    "    lw = 2\n",
    "    plt.plot(fpr[0], tpr[0], color='darkorange', lw=lw, label='ROC curve (class 0) (area = %0.2f)' % roc_auc[0])\n",
    "    plt.plot(fpr[1], tpr[1], color='green', lw=lw, label='ROC curve (class 1) (area = %0.2f)' % roc_auc[1])\n",
    "    plt.plot(fpr[\"micro\"], tpr[\"micro\"], color='deeppink', lw=lw, linestyle=':', label='micro-average ROC curve (area = %0.2f)' % roc_auc[\"micro\"])\n",
    "    plt.plot(fpr[\"macro\"], tpr[\"macro\"], color='blue', lw=lw, linestyle='--', label='macro-average ROC curve (area = %0.2f)' % roc_auc[\"macro\"])\n",
    "    plt.plot([0, 1], [0, 1], color='navy', lw=lw, linestyle='--')\n",
    "    plt.xlim([0.0, 1.0])\n",
    "    plt.ylim([0.0, 1.05])\n",
    "    plt.xlabel('False Positive Rate')\n",
    "    plt.ylabel('True Positive Rate')\n",
    "    plt.title('Receiver Operating Characteristic (ROC) Curve')\n",
    "    plt.legend(loc=\"lower right\")\n",
    "    \n",
    "    # Save the plot if save_path is provided\n",
    "    if save_path:\n",
    "        plt.savefig(save_path)\n",
    "    \n",
    "    plt.show()\n",
    "\n",
    "# Assuming you have the model already trained and `x_test` and `y_test` data available\n",
    "# Assuming `model` is the trained model\n",
    "\n",
    "# Generate predictions\n",
    "y_pred_prob = model.predict(x_test).ravel()  # get probabilities for the positive class\n",
    "\n",
    "# Plot ROC curves and save the plot\n",
    "plot_ROC_curves(y_test, y_pred_prob, save_path='C:/Users/MVI_lab_2/Desktop/sezier_detection_LSTM/final_model/images/ROC_curve.png')\n"
   ]
  },
  {
   "cell_type": "code",
   "execution_count": 11,
   "id": "8d513fb0",
   "metadata": {},
   "outputs": [
    {
     "name": "stdout",
     "output_type": "stream",
     "text": [
      "13108/13108 [==============================] - 147s 11ms/step - loss: 0.1005 - accuracy: 0.9734\n",
      "Evaluation Loss: 0.10046490281820297\n",
      "Evaluation Accuracy: 0.973421037197113\n"
     ]
    }
   ],
   "source": [
    "import tensorflow as tf\n",
    "\n",
    "# Load the saved model\n",
    "model = tf.keras.models.load_model('C:/Users/MVI_lab_2/Desktop/sezier_detection_LSTM/final_model/Model/1dcnn_final_binaryclass_best.h5')\n",
    "\n",
    "# Load test data\n",
    "#test_data = ...  # Load your test data here\n",
    "#test_y_onehot = ...  # Load one-hot encoded test labels here\n",
    "\n",
    "# Evaluate the model\n",
    "evaluation = model.evaluate(x_test, y_test)\n",
    "\n",
    "# Print evaluation metrics\n",
    "print(\"Evaluation Loss:\", evaluation[0])\n",
    "print(\"Evaluation Accuracy:\", evaluation[1])\n"
   ]
  },
  {
   "cell_type": "code",
   "execution_count": 12,
   "id": "64f71922",
   "metadata": {},
   "outputs": [
    {
     "name": "stdout",
     "output_type": "stream",
     "text": [
      "Model: \"model\"\n",
      "__________________________________________________________________________________________________\n",
      " Layer (type)                Output Shape                 Param #   Connected to                  \n",
      "==================================================================================================\n",
      " input_1 (InputLayer)        [(None, 460)]                0         []                            \n",
      "                                                                                                  \n",
      " embedding (Embedding)       (None, 460, 16)              384       ['input_1[0][0]']             \n",
      "                                                                                                  \n",
      " conv1d (Conv1D)             (None, 460, 16)              2576      ['embedding[0][0]']           \n",
      "                                                                                                  \n",
      " max_pooling1d_1 (MaxPoolin  (None, 230, 16)              0         ['embedding[0][0]']           \n",
      " g1D)                                                                                             \n",
      "                                                                                                  \n",
      " batch_normalization (Batch  (None, 460, 16)              64        ['conv1d[0][0]']              \n",
      " Normalization)                                                                                   \n",
      "                                                                                                  \n",
      " conv1d_1 (Conv1D)           (None, 230, 32)              5152      ['max_pooling1d_1[0][0]']     \n",
      "                                                                                                  \n",
      " re_lu (ReLU)                (None, 460, 16)              0         ['batch_normalization[0][0]'] \n",
      "                                                                                                  \n",
      " batch_normalization_1 (Bat  (None, 230, 32)              128       ['conv1d_1[0][0]']            \n",
      " chNormalization)                                                                                 \n",
      "                                                                                                  \n",
      " max_pooling1d (MaxPooling1  (None, 230, 16)              0         ['re_lu[0][0]']               \n",
      " D)                                                                                               \n",
      "                                                                                                  \n",
      " re_lu_1 (ReLU)              (None, 230, 32)              0         ['batch_normalization_1[0][0]'\n",
      "                                                                    ]                             \n",
      "                                                                                                  \n",
      " concatenate (Concatenate)   (None, 230, 48)              0         ['max_pooling1d[0][0]',       \n",
      "                                                                     're_lu_1[0][0]']             \n",
      "                                                                                                  \n",
      " conv1d_11 (Conv1D)          (None, 230, 16)              7696      ['concatenate[0][0]']         \n",
      "                                                                                                  \n",
      " max_pooling1d_2 (MaxPoolin  (None, 115, 32)              0         ['re_lu_1[0][0]']             \n",
      " g1D)                                                                                             \n",
      "                                                                                                  \n",
      " max_pooling1d_5 (MaxPoolin  (None, 115, 16)              0         ['max_pooling1d_1[0][0]']     \n",
      " g1D)                                                                                             \n",
      "                                                                                                  \n",
      " batch_normalization_11 (Ba  (None, 230, 16)              64        ['conv1d_11[0][0]']           \n",
      " tchNormalization)                                                                                \n",
      "                                                                                                  \n",
      " conv1d_2 (Conv1D)           (None, 115, 32)              10272     ['max_pooling1d_2[0][0]']     \n",
      "                                                                                                  \n",
      " conv1d_5 (Conv1D)           (None, 115, 64)              10304     ['max_pooling1d_5[0][0]']     \n",
      "                                                                                                  \n",
      " re_lu_11 (ReLU)             (None, 230, 16)              0         ['batch_normalization_11[0][0]\n",
      "                                                                    ']                            \n",
      "                                                                                                  \n",
      " batch_normalization_2 (Bat  (None, 115, 32)              128       ['conv1d_2[0][0]']            \n",
      " chNormalization)                                                                                 \n",
      "                                                                                                  \n",
      " batch_normalization_5 (Bat  (None, 115, 64)              256       ['conv1d_5[0][0]']            \n",
      " chNormalization)                                                                                 \n",
      "                                                                                                  \n",
      " max_pooling1d_11 (MaxPooli  (None, 115, 16)              0         ['re_lu_11[0][0]']            \n",
      " ng1D)                                                                                            \n",
      "                                                                                                  \n",
      " re_lu_2 (ReLU)              (None, 115, 32)              0         ['batch_normalization_2[0][0]'\n",
      "                                                                    ]                             \n",
      "                                                                                                  \n",
      " re_lu_5 (ReLU)              (None, 115, 64)              0         ['batch_normalization_5[0][0]'\n",
      "                                                                    ]                             \n",
      "                                                                                                  \n",
      " concatenate_1 (Concatenate  (None, 115, 112)             0         ['max_pooling1d_11[0][0]',    \n",
      " )                                                                   're_lu_2[0][0]',             \n",
      "                                                                     're_lu_5[0][0]']             \n",
      "                                                                                                  \n",
      " conv1d_12 (Conv1D)          (None, 115, 16)              17936     ['concatenate_1[0][0]']       \n",
      "                                                                                                  \n",
      " max_pooling1d_3 (MaxPoolin  (None, 57, 32)               0         ['re_lu_2[0][0]']             \n",
      " g1D)                                                                                             \n",
      "                                                                                                  \n",
      " max_pooling1d_6 (MaxPoolin  (None, 57, 64)               0         ['re_lu_5[0][0]']             \n",
      " g1D)                                                                                             \n",
      "                                                                                                  \n",
      " max_pooling1d_8 (MaxPoolin  (None, 57, 16)               0         ['max_pooling1d_5[0][0]']     \n",
      " g1D)                                                                                             \n",
      "                                                                                                  \n",
      " batch_normalization_12 (Ba  (None, 115, 16)              64        ['conv1d_12[0][0]']           \n",
      " tchNormalization)                                                                                \n",
      "                                                                                                  \n",
      " conv1d_3 (Conv1D)           (None, 57, 32)               10272     ['max_pooling1d_3[0][0]']     \n"
     ]
    },
    {
     "name": "stdout",
     "output_type": "stream",
     "text": [
      "                                                                                                  \n",
      " conv1d_6 (Conv1D)           (None, 57, 64)               41024     ['max_pooling1d_6[0][0]']     \n",
      "                                                                                                  \n",
      " conv1d_8 (Conv1D)           (None, 57, 128)              20608     ['max_pooling1d_8[0][0]']     \n",
      "                                                                                                  \n",
      " re_lu_12 (ReLU)             (None, 115, 16)              0         ['batch_normalization_12[0][0]\n",
      "                                                                    ']                            \n",
      "                                                                                                  \n",
      " batch_normalization_3 (Bat  (None, 57, 32)               128       ['conv1d_3[0][0]']            \n",
      " chNormalization)                                                                                 \n",
      "                                                                                                  \n",
      " batch_normalization_6 (Bat  (None, 57, 64)               256       ['conv1d_6[0][0]']            \n",
      " chNormalization)                                                                                 \n",
      "                                                                                                  \n",
      " batch_normalization_8 (Bat  (None, 57, 128)              512       ['conv1d_8[0][0]']            \n",
      " chNormalization)                                                                                 \n",
      "                                                                                                  \n",
      " max_pooling1d_12 (MaxPooli  (None, 57, 16)               0         ['re_lu_12[0][0]']            \n",
      " ng1D)                                                                                            \n",
      "                                                                                                  \n",
      " re_lu_3 (ReLU)              (None, 57, 32)               0         ['batch_normalization_3[0][0]'\n",
      "                                                                    ]                             \n",
      "                                                                                                  \n",
      " re_lu_6 (ReLU)              (None, 57, 64)               0         ['batch_normalization_6[0][0]'\n",
      "                                                                    ]                             \n",
      "                                                                                                  \n",
      " re_lu_8 (ReLU)              (None, 57, 128)              0         ['batch_normalization_8[0][0]'\n",
      "                                                                    ]                             \n",
      "                                                                                                  \n",
      " concatenate_2 (Concatenate  (None, 57, 240)              0         ['max_pooling1d_12[0][0]',    \n",
      " )                                                                   're_lu_3[0][0]',             \n",
      "                                                                     're_lu_6[0][0]',             \n",
      "                                                                     're_lu_8[0][0]']             \n",
      "                                                                                                  \n",
      " conv1d_13 (Conv1D)          (None, 57, 16)               38416     ['concatenate_2[0][0]']       \n",
      "                                                                                                  \n",
      " max_pooling1d_4 (MaxPoolin  (None, 28, 32)               0         ['re_lu_3[0][0]']             \n",
      " g1D)                                                                                             \n",
      "                                                                                                  \n",
      " max_pooling1d_7 (MaxPoolin  (None, 28, 64)               0         ['re_lu_6[0][0]']             \n",
      " g1D)                                                                                             \n",
      "                                                                                                  \n",
      " max_pooling1d_9 (MaxPoolin  (None, 28, 128)              0         ['re_lu_8[0][0]']             \n",
      " g1D)                                                                                             \n",
      "                                                                                                  \n",
      " max_pooling1d_10 (MaxPooli  (None, 28, 16)               0         ['max_pooling1d_8[0][0]']     \n",
      " ng1D)                                                                                            \n",
      "                                                                                                  \n",
      " batch_normalization_13 (Ba  (None, 57, 16)               64        ['conv1d_13[0][0]']           \n",
      " tchNormalization)                                                                                \n",
      "                                                                                                  \n",
      " conv1d_4 (Conv1D)           (None, 28, 32)               10272     ['max_pooling1d_4[0][0]']     \n",
      "                                                                                                  \n",
      " conv1d_7 (Conv1D)           (None, 28, 64)               41024     ['max_pooling1d_7[0][0]']     \n",
      "                                                                                                  \n",
      " conv1d_9 (Conv1D)           (None, 28, 128)              163968    ['max_pooling1d_9[0][0]']     \n",
      "                                                                                                  \n",
      " conv1d_10 (Conv1D)          (None, 28, 256)              41216     ['max_pooling1d_10[0][0]']    \n",
      "                                                                                                  \n",
      " re_lu_13 (ReLU)             (None, 57, 16)               0         ['batch_normalization_13[0][0]\n",
      "                                                                    ']                            \n",
      "                                                                                                  \n",
      " batch_normalization_4 (Bat  (None, 28, 32)               128       ['conv1d_4[0][0]']            \n",
      " chNormalization)                                                                                 \n",
      "                                                                                                  \n",
      " batch_normalization_7 (Bat  (None, 28, 64)               256       ['conv1d_7[0][0]']            \n",
      " chNormalization)                                                                                 \n",
      "                                                                                                  \n",
      " batch_normalization_9 (Bat  (None, 28, 128)              512       ['conv1d_9[0][0]']            \n",
      " chNormalization)                                                                                 \n",
      "                                                                                                  \n",
      " batch_normalization_10 (Ba  (None, 28, 256)              1024      ['conv1d_10[0][0]']           \n",
      " tchNormalization)                                                                                \n",
      "                                                                                                  \n",
      " max_pooling1d_13 (MaxPooli  (None, 28, 16)               0         ['re_lu_13[0][0]']            \n",
      " ng1D)                                                                                            \n",
      "                                                                                                  \n",
      " re_lu_4 (ReLU)              (None, 28, 32)               0         ['batch_normalization_4[0][0]'\n",
      "                                                                    ]                             \n",
      "                                                                                                  \n",
      " re_lu_7 (ReLU)              (None, 28, 64)               0         ['batch_normalization_7[0][0]'\n",
      "                                                                    ]                             \n",
      "                                                                                                  \n"
     ]
    },
    {
     "name": "stdout",
     "output_type": "stream",
     "text": [
      " re_lu_9 (ReLU)              (None, 28, 128)              0         ['batch_normalization_9[0][0]'\n",
      "                                                                    ]                             \n",
      "                                                                                                  \n",
      " re_lu_10 (ReLU)             (None, 28, 256)              0         ['batch_normalization_10[0][0]\n",
      "                                                                    ']                            \n",
      "                                                                                                  \n",
      " concatenate_3 (Concatenate  (None, 28, 496)              0         ['max_pooling1d_13[0][0]',    \n",
      " )                                                                   're_lu_4[0][0]',             \n",
      "                                                                     're_lu_7[0][0]',             \n",
      "                                                                     're_lu_9[0][0]',             \n",
      "                                                                     're_lu_10[0][0]']            \n",
      "                                                                                                  \n",
      " conv1d_14 (Conv1D)          (None, 28, 256)              1270016   ['concatenate_3[0][0]']       \n",
      "                                                                                                  \n",
      " batch_normalization_14 (Ba  (None, 28, 256)              1024      ['conv1d_14[0][0]']           \n",
      " tchNormalization)                                                                                \n",
      "                                                                                                  \n",
      " re_lu_14 (ReLU)             (None, 28, 256)              0         ['batch_normalization_14[0][0]\n",
      "                                                                    ']                            \n",
      "                                                                                                  \n",
      " flatten (Flatten)           (None, 7168)                 0         ['re_lu_14[0][0]']            \n",
      "                                                                                                  \n",
      " dense (Dense)               (None, 32)                   229408    ['flatten[0][0]']             \n",
      "                                                                                                  \n",
      " dense_1 (Dense)             (None, 1)                    33        ['dense[0][0]']               \n",
      "                                                                                                  \n",
      "==================================================================================================\n",
      "Total params: 1925185 (7.34 MB)\n",
      "Trainable params: 1922881 (7.34 MB)\n",
      "Non-trainable params: 2304 (9.00 KB)\n",
      "__________________________________________________________________________________________________\n"
     ]
    }
   ],
   "source": [
    "from keras.models import load_model\n",
    "\n",
    "# Load the model\n",
    "model = load_model('C:/Users/MVI_lab_2/Desktop/sezier_detection_LSTM/final_model/Model/1dcnn_final_binaryclass_best.h5')\n",
    "model.summary()"
   ]
  },
  {
   "cell_type": "code",
   "execution_count": 13,
   "id": "9a65c3c0",
   "metadata": {},
   "outputs": [
    {
     "name": "stdout",
     "output_type": "stream",
     "text": [
      "input_1\n",
      "embedding\n",
      "conv1d\n",
      "max_pooling1d_1\n",
      "batch_normalization\n",
      "conv1d_1\n",
      "re_lu\n",
      "batch_normalization_1\n",
      "max_pooling1d\n",
      "re_lu_1\n",
      "concatenate\n",
      "conv1d_11\n",
      "max_pooling1d_2\n",
      "max_pooling1d_5\n",
      "batch_normalization_11\n",
      "conv1d_2\n",
      "conv1d_5\n",
      "re_lu_11\n",
      "batch_normalization_2\n",
      "batch_normalization_5\n",
      "max_pooling1d_11\n",
      "re_lu_2\n",
      "re_lu_5\n",
      "concatenate_1\n",
      "conv1d_12\n",
      "max_pooling1d_3\n",
      "max_pooling1d_6\n",
      "max_pooling1d_8\n",
      "batch_normalization_12\n",
      "conv1d_3\n",
      "conv1d_6\n",
      "conv1d_8\n",
      "re_lu_12\n",
      "batch_normalization_3\n",
      "batch_normalization_6\n",
      "batch_normalization_8\n",
      "max_pooling1d_12\n",
      "re_lu_3\n",
      "re_lu_6\n",
      "re_lu_8\n",
      "concatenate_2\n",
      "conv1d_13\n",
      "max_pooling1d_4\n",
      "max_pooling1d_7\n",
      "max_pooling1d_9\n",
      "max_pooling1d_10\n",
      "batch_normalization_13\n",
      "conv1d_4\n",
      "conv1d_7\n",
      "conv1d_9\n",
      "conv1d_10\n",
      "re_lu_13\n",
      "batch_normalization_4\n",
      "batch_normalization_7\n",
      "batch_normalization_9\n",
      "batch_normalization_10\n",
      "max_pooling1d_13\n",
      "re_lu_4\n",
      "re_lu_7\n",
      "re_lu_9\n",
      "re_lu_10\n",
      "concatenate_3\n",
      "conv1d_14\n",
      "batch_normalization_14\n",
      "re_lu_14\n",
      "flatten\n",
      "dense\n",
      "dense_1\n"
     ]
    }
   ],
   "source": [
    "# Print each layer's name\n",
    "for layer in model.layers:\n",
    "    print(layer.name)"
   ]
  },
  {
   "cell_type": "code",
   "execution_count": 14,
   "id": "9a9cc1d3",
   "metadata": {},
   "outputs": [
    {
     "name": "stdout",
     "output_type": "stream",
     "text": [
      "Model: \"model_1\"\n",
      "__________________________________________________________________________________________________\n",
      " Layer (type)                Output Shape                 Param #   Connected to                  \n",
      "==================================================================================================\n",
      " input_1 (InputLayer)        [(None, 460)]                0         []                            \n",
      "                                                                                                  \n",
      " embedding (Embedding)       (None, 460, 16)              384       ['input_1[0][0]']             \n",
      "                                                                                                  \n",
      " conv1d (Conv1D)             (None, 460, 16)              2576      ['embedding[0][0]']           \n",
      "                                                                                                  \n",
      " max_pooling1d_1 (MaxPoolin  (None, 230, 16)              0         ['embedding[0][0]']           \n",
      " g1D)                                                                                             \n",
      "                                                                                                  \n",
      " batch_normalization (Batch  (None, 460, 16)              64        ['conv1d[0][0]']              \n",
      " Normalization)                                                                                   \n",
      "                                                                                                  \n",
      " conv1d_1 (Conv1D)           (None, 230, 32)              5152      ['max_pooling1d_1[0][0]']     \n",
      "                                                                                                  \n",
      " re_lu (ReLU)                (None, 460, 16)              0         ['batch_normalization[0][0]'] \n",
      "                                                                                                  \n",
      " batch_normalization_1 (Bat  (None, 230, 32)              128       ['conv1d_1[0][0]']            \n",
      " chNormalization)                                                                                 \n",
      "                                                                                                  \n",
      " max_pooling1d (MaxPooling1  (None, 230, 16)              0         ['re_lu[0][0]']               \n",
      " D)                                                                                               \n",
      "                                                                                                  \n",
      " re_lu_1 (ReLU)              (None, 230, 32)              0         ['batch_normalization_1[0][0]'\n",
      "                                                                    ]                             \n",
      "                                                                                                  \n",
      " concatenate (Concatenate)   (None, 230, 48)              0         ['max_pooling1d[0][0]',       \n",
      "                                                                     're_lu_1[0][0]']             \n",
      "                                                                                                  \n",
      " conv1d_11 (Conv1D)          (None, 230, 16)              7696      ['concatenate[0][0]']         \n",
      "                                                                                                  \n",
      " max_pooling1d_2 (MaxPoolin  (None, 115, 32)              0         ['re_lu_1[0][0]']             \n",
      " g1D)                                                                                             \n",
      "                                                                                                  \n",
      " max_pooling1d_5 (MaxPoolin  (None, 115, 16)              0         ['max_pooling1d_1[0][0]']     \n",
      " g1D)                                                                                             \n",
      "                                                                                                  \n",
      " batch_normalization_11 (Ba  (None, 230, 16)              64        ['conv1d_11[0][0]']           \n",
      " tchNormalization)                                                                                \n",
      "                                                                                                  \n",
      " conv1d_2 (Conv1D)           (None, 115, 32)              10272     ['max_pooling1d_2[0][0]']     \n",
      "                                                                                                  \n",
      " conv1d_5 (Conv1D)           (None, 115, 64)              10304     ['max_pooling1d_5[0][0]']     \n",
      "                                                                                                  \n",
      " re_lu_11 (ReLU)             (None, 230, 16)              0         ['batch_normalization_11[0][0]\n",
      "                                                                    ']                            \n",
      "                                                                                                  \n",
      " batch_normalization_2 (Bat  (None, 115, 32)              128       ['conv1d_2[0][0]']            \n",
      " chNormalization)                                                                                 \n",
      "                                                                                                  \n",
      " batch_normalization_5 (Bat  (None, 115, 64)              256       ['conv1d_5[0][0]']            \n",
      " chNormalization)                                                                                 \n",
      "                                                                                                  \n",
      " max_pooling1d_11 (MaxPooli  (None, 115, 16)              0         ['re_lu_11[0][0]']            \n",
      " ng1D)                                                                                            \n",
      "                                                                                                  \n",
      " re_lu_2 (ReLU)              (None, 115, 32)              0         ['batch_normalization_2[0][0]'\n",
      "                                                                    ]                             \n",
      "                                                                                                  \n",
      " re_lu_5 (ReLU)              (None, 115, 64)              0         ['batch_normalization_5[0][0]'\n",
      "                                                                    ]                             \n",
      "                                                                                                  \n",
      " concatenate_1 (Concatenate  (None, 115, 112)             0         ['max_pooling1d_11[0][0]',    \n",
      " )                                                                   're_lu_2[0][0]',             \n",
      "                                                                     're_lu_5[0][0]']             \n",
      "                                                                                                  \n",
      " conv1d_12 (Conv1D)          (None, 115, 16)              17936     ['concatenate_1[0][0]']       \n",
      "                                                                                                  \n",
      " max_pooling1d_3 (MaxPoolin  (None, 57, 32)               0         ['re_lu_2[0][0]']             \n",
      " g1D)                                                                                             \n",
      "                                                                                                  \n",
      " max_pooling1d_6 (MaxPoolin  (None, 57, 64)               0         ['re_lu_5[0][0]']             \n",
      " g1D)                                                                                             \n",
      "                                                                                                  \n",
      " max_pooling1d_8 (MaxPoolin  (None, 57, 16)               0         ['max_pooling1d_5[0][0]']     \n",
      " g1D)                                                                                             \n",
      "                                                                                                  \n",
      " batch_normalization_12 (Ba  (None, 115, 16)              64        ['conv1d_12[0][0]']           \n",
      " tchNormalization)                                                                                \n",
      "                                                                                                  \n",
      " conv1d_3 (Conv1D)           (None, 57, 32)               10272     ['max_pooling1d_3[0][0]']     \n"
     ]
    },
    {
     "name": "stdout",
     "output_type": "stream",
     "text": [
      "                                                                                                  \n",
      " conv1d_6 (Conv1D)           (None, 57, 64)               41024     ['max_pooling1d_6[0][0]']     \n",
      "                                                                                                  \n",
      " conv1d_8 (Conv1D)           (None, 57, 128)              20608     ['max_pooling1d_8[0][0]']     \n",
      "                                                                                                  \n",
      " re_lu_12 (ReLU)             (None, 115, 16)              0         ['batch_normalization_12[0][0]\n",
      "                                                                    ']                            \n",
      "                                                                                                  \n",
      " batch_normalization_3 (Bat  (None, 57, 32)               128       ['conv1d_3[0][0]']            \n",
      " chNormalization)                                                                                 \n",
      "                                                                                                  \n",
      " batch_normalization_6 (Bat  (None, 57, 64)               256       ['conv1d_6[0][0]']            \n",
      " chNormalization)                                                                                 \n",
      "                                                                                                  \n",
      " batch_normalization_8 (Bat  (None, 57, 128)              512       ['conv1d_8[0][0]']            \n",
      " chNormalization)                                                                                 \n",
      "                                                                                                  \n",
      " max_pooling1d_12 (MaxPooli  (None, 57, 16)               0         ['re_lu_12[0][0]']            \n",
      " ng1D)                                                                                            \n",
      "                                                                                                  \n",
      " re_lu_3 (ReLU)              (None, 57, 32)               0         ['batch_normalization_3[0][0]'\n",
      "                                                                    ]                             \n",
      "                                                                                                  \n",
      " re_lu_6 (ReLU)              (None, 57, 64)               0         ['batch_normalization_6[0][0]'\n",
      "                                                                    ]                             \n",
      "                                                                                                  \n",
      " re_lu_8 (ReLU)              (None, 57, 128)              0         ['batch_normalization_8[0][0]'\n",
      "                                                                    ]                             \n",
      "                                                                                                  \n",
      " concatenate_2 (Concatenate  (None, 57, 240)              0         ['max_pooling1d_12[0][0]',    \n",
      " )                                                                   're_lu_3[0][0]',             \n",
      "                                                                     're_lu_6[0][0]',             \n",
      "                                                                     're_lu_8[0][0]']             \n",
      "                                                                                                  \n",
      " conv1d_13 (Conv1D)          (None, 57, 16)               38416     ['concatenate_2[0][0]']       \n",
      "                                                                                                  \n",
      " max_pooling1d_4 (MaxPoolin  (None, 28, 32)               0         ['re_lu_3[0][0]']             \n",
      " g1D)                                                                                             \n",
      "                                                                                                  \n",
      " max_pooling1d_7 (MaxPoolin  (None, 28, 64)               0         ['re_lu_6[0][0]']             \n",
      " g1D)                                                                                             \n",
      "                                                                                                  \n",
      " max_pooling1d_9 (MaxPoolin  (None, 28, 128)              0         ['re_lu_8[0][0]']             \n",
      " g1D)                                                                                             \n",
      "                                                                                                  \n",
      " max_pooling1d_10 (MaxPooli  (None, 28, 16)               0         ['max_pooling1d_8[0][0]']     \n",
      " ng1D)                                                                                            \n",
      "                                                                                                  \n",
      " batch_normalization_13 (Ba  (None, 57, 16)               64        ['conv1d_13[0][0]']           \n",
      " tchNormalization)                                                                                \n",
      "                                                                                                  \n",
      " conv1d_4 (Conv1D)           (None, 28, 32)               10272     ['max_pooling1d_4[0][0]']     \n",
      "                                                                                                  \n",
      " conv1d_7 (Conv1D)           (None, 28, 64)               41024     ['max_pooling1d_7[0][0]']     \n",
      "                                                                                                  \n",
      " conv1d_9 (Conv1D)           (None, 28, 128)              163968    ['max_pooling1d_9[0][0]']     \n",
      "                                                                                                  \n",
      " conv1d_10 (Conv1D)          (None, 28, 256)              41216     ['max_pooling1d_10[0][0]']    \n",
      "                                                                                                  \n",
      " re_lu_13 (ReLU)             (None, 57, 16)               0         ['batch_normalization_13[0][0]\n",
      "                                                                    ']                            \n",
      "                                                                                                  \n",
      " batch_normalization_4 (Bat  (None, 28, 32)               128       ['conv1d_4[0][0]']            \n",
      " chNormalization)                                                                                 \n",
      "                                                                                                  \n",
      " batch_normalization_7 (Bat  (None, 28, 64)               256       ['conv1d_7[0][0]']            \n",
      " chNormalization)                                                                                 \n",
      "                                                                                                  \n",
      " batch_normalization_9 (Bat  (None, 28, 128)              512       ['conv1d_9[0][0]']            \n",
      " chNormalization)                                                                                 \n",
      "                                                                                                  \n",
      " batch_normalization_10 (Ba  (None, 28, 256)              1024      ['conv1d_10[0][0]']           \n",
      " tchNormalization)                                                                                \n",
      "                                                                                                  \n",
      " max_pooling1d_13 (MaxPooli  (None, 28, 16)               0         ['re_lu_13[0][0]']            \n",
      " ng1D)                                                                                            \n",
      "                                                                                                  \n",
      " re_lu_4 (ReLU)              (None, 28, 32)               0         ['batch_normalization_4[0][0]'\n",
      "                                                                    ]                             \n",
      "                                                                                                  \n",
      " re_lu_7 (ReLU)              (None, 28, 64)               0         ['batch_normalization_7[0][0]'\n",
      "                                                                    ]                             \n",
      "                                                                                                  \n"
     ]
    },
    {
     "name": "stdout",
     "output_type": "stream",
     "text": [
      " re_lu_9 (ReLU)              (None, 28, 128)              0         ['batch_normalization_9[0][0]'\n",
      "                                                                    ]                             \n",
      "                                                                                                  \n",
      " re_lu_10 (ReLU)             (None, 28, 256)              0         ['batch_normalization_10[0][0]\n",
      "                                                                    ']                            \n",
      "                                                                                                  \n",
      " concatenate_3 (Concatenate  (None, 28, 496)              0         ['max_pooling1d_13[0][0]',    \n",
      " )                                                                   're_lu_4[0][0]',             \n",
      "                                                                     're_lu_7[0][0]',             \n",
      "                                                                     're_lu_9[0][0]',             \n",
      "                                                                     're_lu_10[0][0]']            \n",
      "                                                                                                  \n",
      " conv1d_14 (Conv1D)          (None, 28, 256)              1270016   ['concatenate_3[0][0]']       \n",
      "                                                                                                  \n",
      " flatten_1 (Flatten)         (None, 7168)                 0         ['conv1d_14[0][0]']           \n",
      "                                                                                                  \n",
      " dense_2 (Dense)             (None, 264)                  1892616   ['flatten_1[0][0]']           \n",
      "                                                                                                  \n",
      "==================================================================================================\n",
      "Total params: 3587336 (13.68 MB)\n",
      "Trainable params: 3162632 (12.06 MB)\n",
      "Non-trainable params: 424704 (1.62 MB)\n",
      "__________________________________________________________________________________________________\n",
      "52429/52429 [==============================] - 1117s 21ms/step\n",
      "13108/13108 [==============================] - 222s 17ms/step\n",
      "(1677713, 264)\n",
      "(419429, 264)\n"
     ]
    }
   ],
   "source": [
    "from keras.models import Model\n",
    "\n",
    "# Get the output of the conv1d_14 layer\n",
    "conv1d_14_output = model.get_layer('conv1d_14').output\n",
    "\n",
    "# Add a flatten layer to reshape the output\n",
    "flatten = Flatten()(conv1d_14_output)\n",
    "\n",
    "# Add a dense layer with 512 neurons\n",
    "dense_layer = Dense(264, activation='relu')(flatten)\n",
    "\n",
    "# Define the new model with the layers added\n",
    "cnn_base = Model(inputs=model.input, outputs=dense_layer)\n",
    "\n",
    "# Freeze layers up to conv1d_14\n",
    "for layer in cnn_base.layers[:cnn_base.layers.index(model.get_layer('conv1d_14'))]:\n",
    "    layer.trainable = False\n",
    "\n",
    "cnn_base.summary()\n",
    "\n",
    "# Extract features from the modified model\n",
    "X_train_features = cnn_base.predict(x_train)\n",
    "X_test_features = cnn_base.predict(x_test)\n",
    "\n",
    "print(X_train_features.shape)\n",
    "print(X_test_features.shape)\n"
   ]
  },
  {
   "cell_type": "code",
   "execution_count": 15,
   "id": "3e69c7c6",
   "metadata": {},
   "outputs": [
    {
     "name": "stdout",
     "output_type": "stream",
     "text": [
      "(1677713, 264)\n",
      "(419429, 264)\n",
      "(1677713,)\n",
      "(419429,)\n"
     ]
    }
   ],
   "source": [
    "import numpy as np\n",
    "\n",
    "# Flatten the features\n",
    "X_train_flattened = X_train_features.reshape(X_train_features.shape[0], -1)\n",
    "X_test_flattened = X_test_features.reshape(X_test_features.shape[0], -1)\n",
    "\n",
    "print(X_train_flattened.shape)\n",
    "print(X_test_flattened.shape)\n",
    "\n",
    "print(y_train.shape)\n",
    "print(y_test.shape)"
   ]
  },
  {
   "cell_type": "code",
   "execution_count": 16,
   "id": "28870f05",
   "metadata": {},
   "outputs": [
    {
     "name": "stdout",
     "output_type": "stream",
     "text": [
      "Features saved successfully.\n"
     ]
    }
   ],
   "source": [
    "import numpy as np\n",
    "\n",
    "# Flatten the features\n",
    "X_train_flattened = X_train_features.reshape(X_train_features.shape[0], -1)\n",
    "X_test_flattened = X_test_features.reshape(X_test_features.shape[0], -1)\n",
    "\n",
    "# Save the flattened features\n",
    "np.save('C:/Users/MVI_lab_2/Desktop/sezier_detection_LSTM/final_model/features/cnn_X_train_features.npy', X_train_flattened)\n",
    "np.save('C:/Users/MVI_lab_2/Desktop/sezier_detection_LSTM/final_model/features/cnn_X_test_features.npy', X_test_flattened)\n",
    "\n",
    "# Save the labels\n",
    "np.save('C:/Users/MVI_lab_2/Desktop/sezier_detection_LSTM/final_model/features/cnn_y_train.npy', y_train)\n",
    "np.save('C:/Users/MVI_lab_2/Desktop/sezier_detection_LSTM/final_model/features/cnn_y_test.npy', y_test)\n",
    "\n",
    "print(\"Features saved successfully.\")\n"
   ]
  },
  {
   "cell_type": "markdown",
   "id": "5ef7d7ff",
   "metadata": {},
   "source": [
    "## reading the features since error occured"
   ]
  },
  {
   "cell_type": "code",
   "execution_count": 17,
   "id": "83bf7633",
   "metadata": {},
   "outputs": [],
   "source": [
    "# import numpy as np\n",
    "\n",
    "# # Load flattened features\n",
    "# X_train_flattened = np.load('C:/Users/MVI_lab_2/Desktop/sezier_detection_LSTM/final_model/features/cnn_X_train_features.npy')\n",
    "# X_test_flattened = np.load('C:/Users/MVI_lab_2/Desktop/sezier_detection_LSTM/final_model/features/cnn_X_test_features.npy')\n",
    "\n",
    "# # Load labels\n",
    "# y_train = np.load('C:/Users/MVI_lab_2/Desktop/sezier_detection_LSTM/final_model/features/cnn_y_train.npy')\n",
    "# y_test = np.load('C:/Users/MVI_lab_2/Desktop/sezier_detection_LSTM/final_model/features/cnn_y_test.npy')\n",
    "\n",
    "# print(\"Features and labels loaded successfully.\")\n"
   ]
  },
  {
   "cell_type": "markdown",
   "id": "4339ee53",
   "metadata": {},
   "source": [
    "## Prediction through Decision Tree Classifier"
   ]
  },
  {
   "cell_type": "code",
   "execution_count": 18,
   "id": "20773f12",
   "metadata": {},
   "outputs": [
    {
     "name": "stdout",
     "output_type": "stream",
     "text": [
      "Decision Tree Accuracy: 0.7785703897441522\n"
     ]
    }
   ],
   "source": [
    "# Train a Decision Tree classifier\n",
    "from sklearn.tree import DecisionTreeClassifier\n",
    "\n",
    "decision_tree = DecisionTreeClassifier()\n",
    "decision_tree.fit(X_train_flattened, y_train)\n",
    "\n",
    "decision_tree_predictions = decision_tree.predict(X_test_flattened)\n",
    "\n",
    "# Calculate accuracy\n",
    "decision_tree_accuracy = accuracy_score(y_test, decision_tree_predictions)\n",
    "print(\"Decision Tree Accuracy:\", decision_tree_accuracy)"
   ]
  },
  {
   "cell_type": "code",
   "execution_count": 19,
   "id": "89be1a51",
   "metadata": {},
   "outputs": [
    {
     "name": "stdout",
     "output_type": "stream",
     "text": [
      "              precision    recall  f1-score   support\n",
      "\n",
      "           0       0.78      0.78      0.78    209715\n",
      "           1       0.78      0.78      0.78    209714\n",
      "\n",
      "    accuracy                           0.78    419429\n",
      "   macro avg       0.78      0.78      0.78    419429\n",
      "weighted avg       0.78      0.78      0.78    419429\n",
      "\n"
     ]
    }
   ],
   "source": [
    "from sklearn import metrics\n",
    "\n",
    "# Generate classification report with zero_division parameter set to \"warn\"\n",
    "report = metrics.classification_report(y_test, decision_tree_predictions)\n",
    "\n",
    "# Print the report\n",
    "print(report)\n",
    "\n",
    "# Save the classification report to a file\n",
    "with open(\"C:/Users/MVI_lab_2/Desktop/sezier_detection_LSTM/final_model/images/cnn_decision_tree_classification_report.txt\", \"w\") as file:\n",
    "    file.write(report)\n"
   ]
  },
  {
   "cell_type": "code",
   "execution_count": 20,
   "id": "a9c049ae",
   "metadata": {},
   "outputs": [
    {
     "name": "stdout",
     "output_type": "stream",
     "text": [
      "Confusion Matrix: \n",
      " [[163517  46198]\n",
      " [ 46676 163038]]\n",
      "Normalized Confusion Matrix:\n",
      " [[0.77971056 0.22028944]\n",
      " [0.22256979 0.77743021]]\n"
     ]
    },
    {
     "data": {
      "image/png": "[encoded data removed]",
      "text/plain": [
       "<Figure size 432x288 with 2 Axes>"
      ]
     },
     "metadata": {
      "needs_background": "light"
     },
     "output_type": "display_data"
    }
   ],
   "source": [
    "import seaborn as sns\n",
    "import matplotlib.pyplot as plt\n",
    "from sklearn import metrics\n",
    "\n",
    "cnf_matrix = metrics.confusion_matrix(y_test, decision_tree_predictions)\n",
    "print(\"Confusion Matrix: \\n\", cnf_matrix)\n",
    "\n",
    "# Normalize confusion matrix\n",
    "cm_normalized = cnf_matrix.astype('float') / cnf_matrix.sum(axis=1)[:, np.newaxis]\n",
    "print(\"Normalized Confusion Matrix:\\n\", cm_normalized)\n",
    "\n",
    "classes = ['Class 0', 'Class 1']\n",
    "\n",
    "# Plot normalized confusion matrix using Seaborn\n",
    "sns.heatmap(cm_normalized, annot=True, cmap='Blues', xticklabels=classes, yticklabels=classes)\n",
    "plt.title('Normalized Confusion Matrix')\n",
    "plt.xlabel('Predicted label')\n",
    "plt.ylabel('True label')\n",
    "\n",
    "# Save the confusion matrix plot as an image file\n",
    "plt.savefig('C:/Users/MVI_lab_2/Desktop/sezier_detection_LSTM/final_model/images/cnn_decision_tree_confusion_matrix.png')\n",
    "\n",
    "plt.show()\n"
   ]
  },
  {
   "cell_type": "code",
   "execution_count": 21,
   "id": "78b25f4e",
   "metadata": {},
   "outputs": [
    {
     "name": "stderr",
     "output_type": "stream",
     "text": [
      "C:\\Users\\MVI_lab_2\\AppData\\Local\\Temp\\ipykernel_6372\\507812794.py:26: DeprecationWarning: scipy.interp is deprecated and will be removed in SciPy 2.0.0, use numpy.interp instead\n",
      "  mean_tpr += interp(all_fpr, fpr[i], tpr[i])\n"
     ]
    },
    {
     "data": {
      "image/png": "[encoded data removed]",
      "text/plain": [
       "<Figure size 576x432 with 1 Axes>"
      ]
     },
     "metadata": {
      "needs_background": "light"
     },
     "output_type": "display_data"
    }
   ],
   "source": [
    "import numpy as np\n",
    "import matplotlib.pyplot as plt\n",
    "from itertools import cycle\n",
    "from sklearn.metrics import roc_curve, auc\n",
    "from scipy import interp\n",
    "\n",
    "def plot_AUC_ROC(y_true, y_pred, n_classes):\n",
    "    # Compute ROC curve and ROC area for each class\n",
    "    fpr = dict()\n",
    "    tpr = dict()\n",
    "    roc_auc = dict()\n",
    "\n",
    "    for i in range(n_classes):\n",
    "        fpr[i], tpr[i], _ = roc_curve(y_true == i, y_pred == i)\n",
    "        roc_auc[i] = auc(fpr[i], tpr[i])\n",
    "\n",
    "    # Compute micro-average ROC curve and ROC area\n",
    "    fpr[\"micro\"], tpr[\"micro\"], _ = roc_curve((y_true.ravel() == y_pred.ravel()), (y_pred.ravel() == 1))\n",
    "    roc_auc[\"micro\"] = auc(fpr[\"micro\"], tpr[\"micro\"])\n",
    "\n",
    "    # Compute macro-average ROC curve and ROC area\n",
    "    all_fpr = np.unique(np.concatenate([fpr[i] for i in range(n_classes)]))\n",
    "    mean_tpr = np.zeros_like(all_fpr)\n",
    "    \n",
    "    for i in range(n_classes):\n",
    "        mean_tpr += interp(all_fpr, fpr[i], tpr[i])\n",
    "        \n",
    "    mean_tpr /= n_classes\n",
    "    fpr[\"macro\"] = all_fpr\n",
    "    tpr[\"macro\"] = mean_tpr\n",
    "    roc_auc[\"macro\"] = auc(fpr[\"macro\"], tpr[\"macro\"])\n",
    "\n",
    "    # Plot ROC curves\n",
    "    plt.figure(figsize=(8, 6))\n",
    "    plt.plot(fpr[\"micro\"], tpr[\"micro\"], label='micro-average ROC curve (area = {0:0.2f})'.format(roc_auc[\"micro\"]), color='deeppink', linestyle='dotted', linewidth=3)\n",
    "    plt.plot(fpr[\"macro\"], tpr[\"macro\"], label='macro-average ROC curve (area = {0:0.2f})'.format(roc_auc[\"macro\"]), color='navy', linestyle=':', linewidth=3)\n",
    "\n",
    "    colors = cycle(['aqua', 'darkorange', 'cornflowerblue'])\n",
    "    for i, color in zip(range(n_classes), colors):\n",
    "        plt.plot(fpr[i], tpr[i], color=color, linewidth=2, label='Class {0} (AUC = {1:0.2f})'.format(i, roc_auc[i]))\n",
    "\n",
    "    plt.plot([0, 1], [0, 1], 'k--', linewidth=2)\n",
    "    plt.xlabel('False Positive Rate')\n",
    "    plt.ylabel('True Positive Rate')\n",
    "    plt.title('Receiver Operating Characteristic (ROC) Curve')\n",
    "    plt.legend(loc=\"lower right\")\n",
    "    \n",
    "    # Save the AUC ROC curve plot as an image file\n",
    "    plt.savefig('C:/Users/MVI_lab_2/Desktop/sezier_detection_LSTM/final_model/images/cnn_decision_tree_auc_roc_curve.png')\n",
    "    \n",
    "    plt.show()\n",
    "\n",
    "# Example usage:\n",
    "n_classes = 2  # Assuming binary classification\n",
    "plot_AUC_ROC(y_test, decision_tree_predictions, n_classes)"
   ]
  },
  {
   "cell_type": "markdown",
   "id": "d80cc9f0",
   "metadata": {},
   "source": [
    "## Prediction through random forest classifier"
   ]
  },
  {
   "cell_type": "code",
   "execution_count": 22,
   "id": "d0fba4f2",
   "metadata": {},
   "outputs": [
    {
     "name": "stdout",
     "output_type": "stream",
     "text": [
      "Random Forest Accuracy: 0.8810335003063688\n"
     ]
    }
   ],
   "source": [
    "# Train Random Forest classifier\n",
    "from sklearn.ensemble import RandomForestClassifier\n",
    "\n",
    "rf_classifier = RandomForestClassifier(n_estimators=200)\n",
    "rf_classifier.fit(X_train_flattened, y_train)\n",
    "\n",
    "# Evaluate Random Forest classifier\n",
    "rf_predictions = rf_classifier.predict(X_test_flattened)\n",
    "\n",
    "# Calculate accuracy\n",
    "rf_accuracy = accuracy_score(y_test, rf_predictions)\n",
    "print(\"Random Forest Accuracy:\", rf_accuracy)"
   ]
  },
  {
   "cell_type": "code",
   "execution_count": 23,
   "id": "780d8479",
   "metadata": {},
   "outputs": [
    {
     "name": "stdout",
     "output_type": "stream",
     "text": [
      "              precision    recall  f1-score   support\n",
      "\n",
      "           0       0.88      0.88      0.88    209715\n",
      "           1       0.88      0.89      0.88    209714\n",
      "\n",
      "    accuracy                           0.88    419429\n",
      "   macro avg       0.88      0.88      0.88    419429\n",
      "weighted avg       0.88      0.88      0.88    419429\n",
      "\n"
     ]
    }
   ],
   "source": [
    "from sklearn import metrics\n",
    "report = metrics.classification_report(y_test, rf_predictions, zero_division='warn')\n",
    "print(report)\n",
    "with open('C:/Users/MVI_lab_2/Desktop/sezier_detection_LSTM/final_model/images/cnn_random_forestclassification_report.txt', 'w') as file:\n",
    "    file.write(report)\n"
   ]
  },
  {
   "cell_type": "code",
   "execution_count": 24,
   "id": "2146d0a5",
   "metadata": {},
   "outputs": [
    {
     "name": "stdout",
     "output_type": "stream",
     "text": [
      "Confusion Matrix: \n",
      " [[183705  26010]\n",
      " [ 23888 185826]]\n",
      "Normalized Confusion Matrix:\n",
      " [[0.87597454 0.12402546]\n",
      " [0.11390751 0.88609249]]\n"
     ]
    },
    {
     "data": {
      "image/png": "[encoded data removed]",
      "text/plain": [
       "<Figure size 576x432 with 2 Axes>"
      ]
     },
     "metadata": {
      "needs_background": "light"
     },
     "output_type": "display_data"
    }
   ],
   "source": [
    "import numpy as np\n",
    "import matplotlib.pyplot as plt\n",
    "import seaborn as sns\n",
    "from sklearn import metrics\n",
    "\n",
    "# Assume y_test and rf_predictions are already defined, as well as 'classes'\n",
    "cnf_matrix = metrics.confusion_matrix(y_test, rf_predictions)\n",
    "print(\"Confusion Matrix: \\n\", cnf_matrix)\n",
    "\n",
    "# Normalize confusion matrix\n",
    "cm_normalized = cnf_matrix.astype('float') / cnf_matrix.sum(axis=1)[:, np.newaxis]\n",
    "print(\"Normalized Confusion Matrix:\\n\", cm_normalized)\n",
    "\n",
    "# Plot normalized confusion matrix using Seaborn\n",
    "plt.figure(figsize=(8, 6))\n",
    "sns.heatmap(cm_normalized, annot=True, fmt=\".2f\", cmap='Blues', xticklabels=classes, yticklabels=classes)\n",
    "plt.title('Normalized Confusion Matrix')\n",
    "plt.xlabel('Predicted label')\n",
    "plt.ylabel('True label')\n",
    "plt.show()\n",
    "\n",
    "# Save the figure\n",
    "plt.figure(figsize=(8, 6))\n",
    "sns.heatmap(cm_normalized, annot=True, fmt=\".2f\", cmap='Blues', xticklabels=classes, yticklabels=classes)\n",
    "plt.title('Normalized Confusion Matrix')\n",
    "plt.xlabel('Predicted label')\n",
    "plt.ylabel('True label')\n",
    "plt.savefig('C:/Users/MVI_lab_2/Desktop/sezier_detection_LSTM/final_model/images/cnn_random_forestnormalized_confusion_matrix.png')  # Save the figure to a file\n",
    "plt.close()  # Close the figure explicitly after saving it\n"
   ]
  },
  {
   "cell_type": "code",
   "execution_count": 25,
   "id": "e05bab2f",
   "metadata": {},
   "outputs": [
    {
     "name": "stderr",
     "output_type": "stream",
     "text": [
      "C:\\Users\\MVI_lab_2\\AppData\\Local\\Temp\\ipykernel_6372\\1591112157.py:26: DeprecationWarning: scipy.interp is deprecated and will be removed in SciPy 2.0.0, use numpy.interp instead\n",
      "  mean_tpr += interp(all_fpr, fpr[i], tpr[i])\n"
     ]
    },
    {
     "data": {
      "image/png": "[encoded data removed]",
      "text/plain": [
       "<Figure size 576x432 with 1 Axes>"
      ]
     },
     "metadata": {
      "needs_background": "light"
     },
     "output_type": "display_data"
    }
   ],
   "source": [
    "import numpy as np\n",
    "import matplotlib.pyplot as plt\n",
    "from itertools import cycle\n",
    "from sklearn.metrics import roc_curve, auc\n",
    "from scipy import interp\n",
    "\n",
    "def plot_AUC_ROC(y_true, y_pred, n_classes):\n",
    "    # Compute ROC curve and ROC area for each class\n",
    "    fpr = dict()\n",
    "    tpr = dict()\n",
    "    roc_auc = dict()\n",
    "\n",
    "    for i in range(n_classes):\n",
    "        fpr[i], tpr[i], _ = roc_curve(y_true == i, y_pred == i)\n",
    "        roc_auc[i] = auc(fpr[i], tpr[i])\n",
    "\n",
    "    # Compute micro-average ROC curve and ROC area\n",
    "    fpr[\"micro\"], tpr[\"micro\"], _ = roc_curve((y_true.ravel() == y_pred.ravel()), (y_pred.ravel() == 1))\n",
    "    roc_auc[\"micro\"] = auc(fpr[\"micro\"], tpr[\"micro\"])\n",
    "\n",
    "    # Compute macro-average ROC curve and ROC area\n",
    "    all_fpr = np.unique(np.concatenate([fpr[i] for i in range(n_classes)]))\n",
    "    mean_tpr = np.zeros_like(all_fpr)\n",
    "    \n",
    "    for i in range(n_classes):\n",
    "        mean_tpr += interp(all_fpr, fpr[i], tpr[i])\n",
    "        \n",
    "    mean_tpr /= n_classes\n",
    "    fpr[\"macro\"] = all_fpr\n",
    "    tpr[\"macro\"] = mean_tpr\n",
    "    roc_auc[\"macro\"] = auc(fpr[\"macro\"], tpr[\"macro\"])\n",
    "\n",
    "    # Plot ROC curves\n",
    "    plt.figure(figsize=(8, 6))\n",
    "    plt.plot(fpr[\"micro\"], tpr[\"micro\"], label='micro-average ROC curve (area = {0:0.2f})'.format(roc_auc[\"micro\"]), color='deeppink', linestyle='dotted', linewidth=3)\n",
    "    plt.plot(fpr[\"macro\"], tpr[\"macro\"], label='macro-average ROC curve (area = {0:0.2f})'.format(roc_auc[\"macro\"]), color='navy', linestyle=':', linewidth=3)\n",
    "\n",
    "    colors = cycle(['aqua', 'darkorange', 'cornflowerblue'])\n",
    "    for i, color in zip(range(n_classes), colors):\n",
    "        plt.plot(fpr[i], tpr[i], color=color, linewidth=2, label='Class {0} (AUC = {1:0.2f})'.format(i, roc_auc[i]))\n",
    "\n",
    "    plt.plot([0, 1], [0, 1], 'k--', linewidth=2)\n",
    "    plt.xlabel('False Positive Rate')\n",
    "    plt.ylabel('True Positive Rate')\n",
    "    plt.title('Receiver Operating Characteristic (ROC) Curve')\n",
    "    plt.legend(loc=\"lower right\")\n",
    "    \n",
    "    # Save the AUC ROC curve plot as an image file\n",
    "    plt.savefig('C:/Users/MVI_lab_2/Desktop/sezier_detection_LSTM/final_model/images/cnn_random_forest_auc_roc_curve.png')\n",
    "    \n",
    "    plt.show()\n",
    "\n",
    "# Example usage:\n",
    "n_classes = 2  # Assuming binary classification\n",
    "plot_AUC_ROC(y_test, rf_predictions, n_classes)"
   ]
  },
  {
   "cell_type": "markdown",
   "id": "7747a10b",
   "metadata": {},
   "source": [
    "## Prediction through Support Vector Machine Classifier"
   ]
  },
  {
   "cell_type": "code",
   "execution_count": 26,
   "id": "602bbb05",
   "metadata": {},
   "outputs": [],
   "source": [
    "# from sklearn.svm import SVC\n",
    "\n",
    "# svm_classifier = SVC(kernel='linear')\n",
    "# svm_classifier.fit(X_train_flattened, y_train)\n",
    "\n",
    "# # Predictions on test set\n",
    "# svm_predictions = svm_classifier.predict(X_test_flattened)\n",
    "\n",
    "# # Calculate accuracy\n",
    "# svm_accuracy = accuracy_score(y_test, svm_predictions)\n",
    "# print(\"SVM Accuracy:\", svm_accuracy)"
   ]
  },
  {
   "cell_type": "code",
   "execution_count": 27,
   "id": "eade3b5d",
   "metadata": {},
   "outputs": [],
   "source": [
    "# from sklearn import metrics\n",
    "# report = metrics.classification_report(y_test, svm_predictions)\n",
    "# print(report)\n",
    "# with open('C:/Users/MVI_lab_2/Desktop/sezier_detection_LSTM/final_model/images/cnn_svm_classification_report.txt', 'w') as file:\n",
    "#     file.write(report)\n"
   ]
  },
  {
   "cell_type": "code",
   "execution_count": 28,
   "id": "ae2ce4ad",
   "metadata": {},
   "outputs": [],
   "source": [
    "# import seaborn as sns\n",
    "# import matplotlib.pyplot as plt\n",
    "# from sklearn import metrics\n",
    "\n",
    "# cnf_matrix = metrics.confusion_matrix(y_test, svm_predictions)\n",
    "# print(\"Confusion Matrix: \\n\", cnf_matrix)\n",
    "\n",
    "# # Normalize confusion matrix\n",
    "# cm_normalized = cnf_matrix.astype('float') / cnf_matrix.sum(axis=1)[:, np.newaxis]\n",
    "# print(\"Normalized Confusion Matrix:\\n\", cm_normalized)\n",
    "\n",
    "# classes = ['Class 0', 'Class 1']\n",
    "\n",
    "# # Plot normalized confusion matrix using Seaborn\n",
    "# sns.heatmap(cm_normalized, annot=True, cmap='Blues', xticklabels=classes, yticklabels=classes)\n",
    "# plt.title('Normalized Confusion Matrix')\n",
    "# plt.xlabel('Predicted label')\n",
    "# plt.ylabel('True label')\n",
    "\n",
    "# # Save the confusion matrix plot as an image file\n",
    "# plt.savefig('C:/Users/MVI_lab_2/Desktop/sezier_detection_LSTM/final_model/images/cnn_svm_confusion_matrix.png')\n",
    "\n",
    "# plt.show()"
   ]
  },
  {
   "cell_type": "code",
   "execution_count": 29,
   "id": "3fce78fb",
   "metadata": {},
   "outputs": [],
   "source": [
    "# import numpy as np\n",
    "# import matplotlib.pyplot as plt\n",
    "# from itertools import cycle\n",
    "# from sklearn.metrics import roc_curve, auc\n",
    "# from scipy import interp\n",
    "\n",
    "# def plot_AUC_ROC(y_true, y_pred, n_classes):\n",
    "#     # Compute ROC curve and ROC area for each class\n",
    "#     fpr = dict()\n",
    "#     tpr = dict()\n",
    "#     roc_auc = dict()\n",
    "\n",
    "#     for i in range(n_classes):\n",
    "#         fpr[i], tpr[i], _ = roc_curve(y_true == i, y_pred == i)\n",
    "#         roc_auc[i] = auc(fpr[i], tpr[i])\n",
    "\n",
    "#     # Compute micro-average ROC curve and ROC area\n",
    "#     fpr[\"micro\"], tpr[\"micro\"], _ = roc_curve((y_true.ravel() == y_pred.ravel()), (y_pred.ravel() == 1))\n",
    "#     roc_auc[\"micro\"] = auc(fpr[\"micro\"], tpr[\"micro\"])\n",
    "\n",
    "#     # Compute macro-average ROC curve and ROC area\n",
    "#     all_fpr = np.unique(np.concatenate([fpr[i] for i in range(n_classes)]))\n",
    "#     mean_tpr = np.zeros_like(all_fpr)\n",
    "    \n",
    "#     for i in range(n_classes):\n",
    "#         mean_tpr += interp(all_fpr, fpr[i], tpr[i])\n",
    "        \n",
    "#     mean_tpr /= n_classes\n",
    "#     fpr[\"macro\"] = all_fpr\n",
    "#     tpr[\"macro\"] = mean_tpr\n",
    "#     roc_auc[\"macro\"] = auc(fpr[\"macro\"], tpr[\"macro\"])\n",
    "\n",
    "#     # Plot ROC curves\n",
    "#     plt.figure(figsize=(8, 6))\n",
    "#     plt.plot(fpr[\"micro\"], tpr[\"micro\"], label='micro-average ROC curve (area = {0:0.2f})'.format(roc_auc[\"micro\"]), color='deeppink', linestyle='dotted', linewidth=3)\n",
    "#     plt.plot(fpr[\"macro\"], tpr[\"macro\"], label='macro-average ROC curve (area = {0:0.2f})'.format(roc_auc[\"macro\"]), color='navy', linestyle=':', linewidth=3)\n",
    "\n",
    "#     colors = cycle(['aqua', 'darkorange', 'cornflowerblue'])\n",
    "#     for i, color in zip(range(n_classes), colors):\n",
    "#         plt.plot(fpr[i], tpr[i], color=color, linewidth=2, label='Class {0} (AUC = {1:0.2f})'.format(i, roc_auc[i]))\n",
    "\n",
    "#     plt.plot([0, 1], [0, 1], 'k--', linewidth=2)\n",
    "#     plt.xlabel('False Positive Rate')\n",
    "#     plt.ylabel('True Positive Rate')\n",
    "#     plt.title('Receiver Operating Characteristic (ROC) Curve')\n",
    "#     plt.legend(loc=\"lower right\")\n",
    "    \n",
    "#     # Save the AUC ROC curve plot as an image file\n",
    "#     plt.savefig('C:/Users/MVI_lab_2/Desktop/sezier_detection_LSTM/final_model/images/cnn_svm_auc_roc_curve.png')\n",
    "    \n",
    "#     plt.show()\n",
    "\n",
    "# # Example usage:\n",
    "# n_classes = 2  # Assuming binary classification\n",
    "# plot_AUC_ROC(y_test, svm_predictions, n_classes)"
   ]
  },
  {
   "cell_type": "markdown",
   "id": "b05529df",
   "metadata": {},
   "source": [
    "## Prediction Through Naive Bayes Classifier"
   ]
  },
  {
   "cell_type": "code",
   "execution_count": 30,
   "id": "e10cfd44",
   "metadata": {},
   "outputs": [
    {
     "name": "stdout",
     "output_type": "stream",
     "text": [
      "Naive Bayes Accuracy: 0.8019187991292924\n"
     ]
    }
   ],
   "source": [
    "from sklearn.naive_bayes import GaussianNB\n",
    "\n",
    "# Define and train the Naive Bayes classifier\n",
    "naive_bayes = GaussianNB()\n",
    "naive_bayes.fit(X_train_flattened, y_train)\n",
    "\n",
    "# Make predictions on the test set\n",
    "nb_predictions = naive_bayes.predict(X_test_flattened)\n",
    "\n",
    "# Evaluate the performance of the Naive Bayes classifier\n",
    "nb_accuracy = accuracy_score(y_test, nb_predictions)\n",
    "print(\"Naive Bayes Accuracy:\", nb_accuracy)"
   ]
  },
  {
   "cell_type": "code",
   "execution_count": 31,
   "id": "e9c640b7",
   "metadata": {},
   "outputs": [
    {
     "name": "stdout",
     "output_type": "stream",
     "text": [
      "              precision    recall  f1-score   support\n",
      "\n",
      "           0       0.79      0.81      0.80    209715\n",
      "           1       0.81      0.79      0.80    209714\n",
      "\n",
      "    accuracy                           0.80    419429\n",
      "   macro avg       0.80      0.80      0.80    419429\n",
      "weighted avg       0.80      0.80      0.80    419429\n",
      "\n"
     ]
    }
   ],
   "source": [
    "from sklearn import metrics\n",
    "report = metrics.classification_report(y_test, nb_predictions)\n",
    "print(report)\n",
    "with open('C:/Users/MVI_lab_2/Desktop/sezier_detection_LSTM/final_model/images/cnn_naive_bayes_classification_report.txt', 'w') as file:\n",
    "    file.write(report)\n"
   ]
  },
  {
   "cell_type": "code",
   "execution_count": 32,
   "id": "a910a6d5",
   "metadata": {},
   "outputs": [
    {
     "name": "stdout",
     "output_type": "stream",
     "text": [
      "Confusion Matrix: \n",
      " [[170912  38803]\n",
      " [ 44278 165436]]\n",
      "Normalized Confusion Matrix:\n",
      " [[0.8149727  0.1850273 ]\n",
      " [0.21113517 0.78886483]]\n"
     ]
    },
    {
     "data": {
      "image/png": "[encoded data removed]",
      "text/plain": [
       "<Figure size 432x288 with 2 Axes>"
      ]
     },
     "metadata": {
      "needs_background": "light"
     },
     "output_type": "display_data"
    }
   ],
   "source": [
    "import seaborn as sns\n",
    "import matplotlib.pyplot as plt\n",
    "from sklearn import metrics\n",
    "\n",
    "cnf_matrix = metrics.confusion_matrix(y_test, nb_predictions)\n",
    "print(\"Confusion Matrix: \\n\", cnf_matrix)\n",
    "\n",
    "# Normalize confusion matrix\n",
    "cm_normalized = cnf_matrix.astype('float') / cnf_matrix.sum(axis=1)[:, np.newaxis]\n",
    "print(\"Normalized Confusion Matrix:\\n\", cm_normalized)\n",
    "\n",
    "classes = ['Class 0', 'Class 1']\n",
    "\n",
    "# Plot normalized confusion matrix using Seaborn\n",
    "sns.heatmap(cm_normalized, annot=True, cmap='Blues', xticklabels=classes, yticklabels=classes)\n",
    "plt.title('Normalized Confusion Matrix')\n",
    "plt.xlabel('Predicted label')\n",
    "plt.ylabel('True label')\n",
    "\n",
    "# Save the confusion matrix plot as an image file\n",
    "plt.savefig('C:/Users/MVI_lab_2/Desktop/sezier_detection_LSTM/final_model/images/cnn_naive_bayes_confusion_matrix.png')\n",
    "\n",
    "plt.show()"
   ]
  },
  {
   "cell_type": "code",
   "execution_count": 33,
   "id": "85c8752d",
   "metadata": {},
   "outputs": [
    {
     "name": "stdout",
     "output_type": "stream",
     "text": [
      "[0 1 1 ... 0 0 0]\n",
      "[[1. 0.]\n",
      " [0. 1.]\n",
      " [0. 1.]\n",
      " ...\n",
      " [1. 0.]\n",
      " [1. 0.]\n",
      " [1. 0.]]\n"
     ]
    }
   ],
   "source": [
    "# print(y_test_flattened)\n",
    "# print(y_test)\n",
    "\n",
    "print(nb_predictions)\n",
    "\n",
    "nb_matrix = np.zeros((nb_predictions.size, 2))\n",
    "\n",
    "for i in range(0,nb_predictions.size):\n",
    "  if(nb_predictions[i] == 1):\n",
    "    nb_matrix[i][1] = 1\n",
    "  else:\n",
    "    nb_matrix[i][0] = 1\n",
    "\n",
    "print(nb_matrix)"
   ]
  },
  {
   "cell_type": "code",
   "execution_count": 34,
   "id": "8c5f7fa7",
   "metadata": {},
   "outputs": [
    {
     "name": "stderr",
     "output_type": "stream",
     "text": [
      "C:\\Users\\MVI_lab_2\\AppData\\Local\\Temp\\ipykernel_6372\\1393168647.py:26: DeprecationWarning: scipy.interp is deprecated and will be removed in SciPy 2.0.0, use numpy.interp instead\n",
      "  mean_tpr += interp(all_fpr, fpr[i], tpr[i])\n"
     ]
    },
    {
     "data": {
      "image/png": "[encoded data removed]",
      "text/plain": [
       "<Figure size 576x432 with 1 Axes>"
      ]
     },
     "metadata": {
      "needs_background": "light"
     },
     "output_type": "display_data"
    }
   ],
   "source": [
    "import numpy as np\n",
    "import matplotlib.pyplot as plt\n",
    "from itertools import cycle\n",
    "from sklearn.metrics import roc_curve, auc\n",
    "from scipy import interp\n",
    "\n",
    "def plot_AUC_ROC(y_true, y_pred, n_classes):\n",
    "    # Compute ROC curve and ROC area for each class\n",
    "    fpr = dict()\n",
    "    tpr = dict()\n",
    "    roc_auc = dict()\n",
    "\n",
    "    for i in range(n_classes):\n",
    "        fpr[i], tpr[i], _ = roc_curve(y_true == i, y_pred == i)\n",
    "        roc_auc[i] = auc(fpr[i], tpr[i])\n",
    "\n",
    "    # Compute micro-average ROC curve and ROC area\n",
    "    fpr[\"micro\"], tpr[\"micro\"], _ = roc_curve((y_true.ravel() == y_pred.ravel()), (y_pred.ravel() == 1))\n",
    "    roc_auc[\"micro\"] = auc(fpr[\"micro\"], tpr[\"micro\"])\n",
    "\n",
    "    # Compute macro-average ROC curve and ROC area\n",
    "    all_fpr = np.unique(np.concatenate([fpr[i] for i in range(n_classes)]))\n",
    "    mean_tpr = np.zeros_like(all_fpr)\n",
    "    \n",
    "    for i in range(n_classes):\n",
    "        mean_tpr += interp(all_fpr, fpr[i], tpr[i])\n",
    "        \n",
    "    mean_tpr /= n_classes\n",
    "    fpr[\"macro\"] = all_fpr\n",
    "    tpr[\"macro\"] = mean_tpr\n",
    "    roc_auc[\"macro\"] = auc(fpr[\"macro\"], tpr[\"macro\"])\n",
    "\n",
    "    # Plot ROC curves\n",
    "    plt.figure(figsize=(8, 6))\n",
    "    plt.plot(fpr[\"micro\"], tpr[\"micro\"], label='micro-average ROC curve (area = {0:0.2f})'.format(roc_auc[\"micro\"]), color='deeppink', linestyle='dotted', linewidth=3)\n",
    "    plt.plot(fpr[\"macro\"], tpr[\"macro\"], label='macro-average ROC curve (area = {0:0.2f})'.format(roc_auc[\"macro\"]), color='navy', linestyle=':', linewidth=3)\n",
    "\n",
    "    colors = cycle(['aqua', 'darkorange', 'cornflowerblue'])\n",
    "    for i, color in zip(range(n_classes), colors):\n",
    "        plt.plot(fpr[i], tpr[i], color=color, linewidth=2, label='Class {0} (AUC = {1:0.2f})'.format(i, roc_auc[i]))\n",
    "\n",
    "    plt.plot([0, 1], [0, 1], 'k--', linewidth=2)\n",
    "    plt.xlabel('False Positive Rate')\n",
    "    plt.ylabel('True Positive Rate')\n",
    "    plt.title('Receiver Operating Characteristic (ROC) Curve')\n",
    "    plt.legend(loc=\"lower right\")\n",
    "    \n",
    "    # Save the AUC ROC curve plot as an image file\n",
    "    plt.savefig('C:/Users/MVI_lab_2/Desktop/sezier_detection_LSTM/final_model/images/cnn_naive_bayes_auc_roc_curve.png')\n",
    "    \n",
    "    plt.show()\n",
    "\n",
    "# Example usage:\n",
    "n_classes = 2  # Assuming binary classification\n",
    "plot_AUC_ROC(y_test, nb_predictions, n_classes)"
   ]
  },
  {
   "cell_type": "markdown",
   "id": "c65490db",
   "metadata": {},
   "source": [
    "## Prediction through Logistic Regression Classifier"
   ]
  },
  {
   "cell_type": "code",
   "execution_count": 35,
   "id": "f72be24b",
   "metadata": {},
   "outputs": [
    {
     "name": "stdout",
     "output_type": "stream",
     "text": [
      "Logistic Regression Accuracy: 0.8389238703093969\n"
     ]
    }
   ],
   "source": [
    "# Create an instance of the LogisticRegression class\n",
    "\n",
    "from sklearn.linear_model import LogisticRegression\n",
    "from sklearn.preprocessing import StandardScaler\n",
    "\n",
    "# Scale the input features\n",
    "scaler = StandardScaler()\n",
    "X_train_features_scaled = scaler.fit_transform(X_train_flattened)\n",
    "X_test_features_scaled = scaler.transform(X_test_flattened)\n",
    "\n",
    "# Create and train the logistic regression model with increased max_iter\n",
    "logistic_regression = LogisticRegression(max_iter=1000)\n",
    "logistic_regression.fit(X_train_features_scaled, y_train)\n",
    "\n",
    "# Make predictions and evaluate the model\n",
    "logistic_regression_predictions = logistic_regression.predict(X_test_features_scaled)\n",
    "\n",
    "logistic_regression_accuracy = accuracy_score(y_test, logistic_regression_predictions)\n",
    "print(\"Logistic Regression Accuracy:\", logistic_regression_accuracy)\n"
   ]
  },
  {
   "cell_type": "code",
   "execution_count": 36,
   "id": "7925c20d",
   "metadata": {},
   "outputs": [
    {
     "name": "stdout",
     "output_type": "stream",
     "text": [
      "              precision    recall  f1-score   support\n",
      "\n",
      "           0       0.84      0.84      0.84    209715\n",
      "           1       0.84      0.83      0.84    209714\n",
      "\n",
      "    accuracy                           0.84    419429\n",
      "   macro avg       0.84      0.84      0.84    419429\n",
      "weighted avg       0.84      0.84      0.84    419429\n",
      "\n"
     ]
    }
   ],
   "source": [
    "from sklearn import metrics\n",
    "report = metrics.classification_report(y_test, logistic_regression_predictions)\n",
    "print(report)\n",
    "with open('C:/Users/MVI_lab_2/Desktop/sezier_detection_LSTM/final_model/images/cnn_logistic_regression_classification_report.txt', 'w') as file:\n",
    "    file.write(report)\n"
   ]
  },
  {
   "cell_type": "code",
   "execution_count": 37,
   "id": "8e53f311",
   "metadata": {},
   "outputs": [
    {
     "name": "stdout",
     "output_type": "stream",
     "text": [
      "Confusion Matrix: \n",
      " [[177136  32579]\n",
      " [ 34981 174733]]\n",
      "Normalized Confusion Matrix:\n",
      " [[0.84465107 0.15534893]\n",
      " [0.16680336 0.83319664]]\n"
     ]
    },
    {
     "data": {
      "image/png": "[encoded data removed]",
      "text/plain": [
       "<Figure size 432x288 with 2 Axes>"
      ]
     },
     "metadata": {
      "needs_background": "light"
     },
     "output_type": "display_data"
    }
   ],
   "source": [
    "import seaborn as sns\n",
    "import matplotlib.pyplot as plt\n",
    "from sklearn import metrics\n",
    "\n",
    "cnf_matrix = metrics.confusion_matrix(y_test, logistic_regression_predictions)\n",
    "print(\"Confusion Matrix: \\n\", cnf_matrix)\n",
    "\n",
    "# Normalize confusion matrix\n",
    "cm_normalized = cnf_matrix.astype('float') / cnf_matrix.sum(axis=1)[:, np.newaxis]\n",
    "print(\"Normalized Confusion Matrix:\\n\", cm_normalized)\n",
    "\n",
    "classes = ['Class 0', 'Class 1']\n",
    "\n",
    "# Plot normalized confusion matrix using Seaborn\n",
    "sns.heatmap(cm_normalized, annot=True, cmap='Blues', xticklabels=classes, yticklabels=classes)\n",
    "plt.title('Normalized Confusion Matrix')\n",
    "plt.xlabel('Predicted label')\n",
    "plt.ylabel('True label')\n",
    "\n",
    "# Save the confusion matrix plot as an image file\n",
    "plt.savefig('C:/Users/MVI_lab_2/Desktop/sezier_detection_LSTM/final_model/images/cnn_logistic_regression_confusion_matrix.png')\n",
    "\n",
    "plt.show()"
   ]
  },
  {
   "cell_type": "code",
   "execution_count": 38,
   "id": "1dac12bf",
   "metadata": {},
   "outputs": [
    {
     "name": "stdout",
     "output_type": "stream",
     "text": [
      "[0 1 1 ... 1 0 0]\n",
      "[[1. 0.]\n",
      " [0. 1.]\n",
      " [0. 1.]\n",
      " ...\n",
      " [0. 1.]\n",
      " [1. 0.]\n",
      " [1. 0.]]\n"
     ]
    }
   ],
   "source": [
    "# print(y_test_flattened)\n",
    "# print(y_test)\n",
    "\n",
    "print(logistic_regression_predictions)\n",
    "\n",
    "lr_matrix = np.zeros((logistic_regression_predictions.size, 2))\n",
    "\n",
    "for i in range(0,logistic_regression_predictions.size):\n",
    "  if(logistic_regression_predictions[i] == 1):\n",
    "    lr_matrix[i][1] = 1\n",
    "  else:\n",
    "    lr_matrix[i][0] = 1\n",
    "\n",
    "print(lr_matrix)"
   ]
  },
  {
   "cell_type": "code",
   "execution_count": 39,
   "id": "8cfcec75",
   "metadata": {},
   "outputs": [
    {
     "name": "stderr",
     "output_type": "stream",
     "text": [
      "C:\\Users\\MVI_lab_2\\AppData\\Local\\Temp\\ipykernel_6372\\4010914229.py:26: DeprecationWarning: scipy.interp is deprecated and will be removed in SciPy 2.0.0, use numpy.interp instead\n",
      "  mean_tpr += interp(all_fpr, fpr[i], tpr[i])\n"
     ]
    },
    {
     "data": {
      "image/png": "[encoded data removed]",
      "text/plain": [
       "<Figure size 576x432 with 1 Axes>"
      ]
     },
     "metadata": {
      "needs_background": "light"
     },
     "output_type": "display_data"
    }
   ],
   "source": [
    "import numpy as np\n",
    "import matplotlib.pyplot as plt\n",
    "from itertools import cycle\n",
    "from sklearn.metrics import roc_curve, auc\n",
    "from scipy import interp\n",
    "\n",
    "def plot_AUC_ROC(y_true, y_pred, n_classes):\n",
    "    # Compute ROC curve and ROC area for each class\n",
    "    fpr = dict()\n",
    "    tpr = dict()\n",
    "    roc_auc = dict()\n",
    "\n",
    "    for i in range(n_classes):\n",
    "        fpr[i], tpr[i], _ = roc_curve(y_true == i, y_pred == i)\n",
    "        roc_auc[i] = auc(fpr[i], tpr[i])\n",
    "\n",
    "    # Compute micro-average ROC curve and ROC area\n",
    "    fpr[\"micro\"], tpr[\"micro\"], _ = roc_curve((y_true.ravel() == y_pred.ravel()), (y_pred.ravel() == 1))\n",
    "    roc_auc[\"micro\"] = auc(fpr[\"micro\"], tpr[\"micro\"])\n",
    "\n",
    "    # Compute macro-average ROC curve and ROC area\n",
    "    all_fpr = np.unique(np.concatenate([fpr[i] for i in range(n_classes)]))\n",
    "    mean_tpr = np.zeros_like(all_fpr)\n",
    "    \n",
    "    for i in range(n_classes):\n",
    "        mean_tpr += interp(all_fpr, fpr[i], tpr[i])\n",
    "        \n",
    "    mean_tpr /= n_classes\n",
    "    fpr[\"macro\"] = all_fpr\n",
    "    tpr[\"macro\"] = mean_tpr\n",
    "    roc_auc[\"macro\"] = auc(fpr[\"macro\"], tpr[\"macro\"])\n",
    "\n",
    "    # Plot ROC curves\n",
    "    plt.figure(figsize=(8, 6))\n",
    "    plt.plot(fpr[\"micro\"], tpr[\"micro\"], label='micro-average ROC curve (area = {0:0.2f})'.format(roc_auc[\"micro\"]), color='deeppink', linestyle='dotted', linewidth=3)\n",
    "    plt.plot(fpr[\"macro\"], tpr[\"macro\"], label='macro-average ROC curve (area = {0:0.2f})'.format(roc_auc[\"macro\"]), color='navy', linestyle=':', linewidth=3)\n",
    "\n",
    "    colors = cycle(['aqua', 'darkorange', 'cornflowerblue'])\n",
    "    for i, color in zip(range(n_classes), colors):\n",
    "        plt.plot(fpr[i], tpr[i], color=color, linewidth=2, label='Class {0} (AUC = {1:0.2f})'.format(i, roc_auc[i]))\n",
    "\n",
    "    plt.plot([0, 1], [0, 1], 'k--', linewidth=2)\n",
    "    plt.xlabel('False Positive Rate')\n",
    "    plt.ylabel('True Positive Rate')\n",
    "    plt.title('Receiver Operating Characteristic (ROC) Curve')\n",
    "    plt.legend(loc=\"lower right\")\n",
    "    \n",
    "    # Save the AUC ROC curve plot as an image file\n",
    "    plt.savefig('C:/Users/MVI_lab_2/Desktop/sezier_detection_LSTM/final_model/images/cnn_logistic_regression_auc_roc_curve.png')\n",
    "    \n",
    "    plt.show()\n",
    "\n",
    "# Example usage:\n",
    "n_classes = 2  # Assuming binary classification\n",
    "plot_AUC_ROC(y_test, logistic_regression_predictions, n_classes)"
   ]
  },
  {
   "cell_type": "markdown",
   "id": "c5178190",
   "metadata": {},
   "source": [
    "## Prediction through AdaBoost Classifier"
   ]
  },
  {
   "cell_type": "code",
   "execution_count": 40,
   "id": "9fa4072b",
   "metadata": {},
   "outputs": [
    {
     "name": "stdout",
     "output_type": "stream",
     "text": [
      "AdaBoost Accuracy: 0.8235029051400833\n"
     ]
    }
   ],
   "source": [
    "from sklearn.ensemble import AdaBoostClassifier\n",
    "\n",
    "# Create AdaBoost classifier\n",
    "ada_boost_classifier = AdaBoostClassifier(n_estimators=100)\n",
    "\n",
    "# Train the classifier\n",
    "ada_boost_classifier.fit(X_train_flattened, y_train)\n",
    "\n",
    "# Make predictions on the test set\n",
    "ada_boost_predictions = ada_boost_classifier.predict(X_test_flattened)\n",
    "\n",
    "# Calculate accuracy\n",
    "ada_boost_accuracy = accuracy_score(y_test, ada_boost_predictions)\n",
    "print(\"AdaBoost Accuracy:\", ada_boost_accuracy)\n"
   ]
  },
  {
   "cell_type": "code",
   "execution_count": 41,
   "id": "c34ff86b",
   "metadata": {},
   "outputs": [
    {
     "name": "stdout",
     "output_type": "stream",
     "text": [
      "              precision    recall  f1-score   support\n",
      "\n",
      "           0       0.82      0.83      0.82    209715\n",
      "           1       0.83      0.82      0.82    209714\n",
      "\n",
      "    accuracy                           0.82    419429\n",
      "   macro avg       0.82      0.82      0.82    419429\n",
      "weighted avg       0.82      0.82      0.82    419429\n",
      "\n"
     ]
    }
   ],
   "source": [
    "from sklearn import metrics\n",
    "report = metrics.classification_report(y_test, ada_boost_predictions)\n",
    "print(report)\n",
    "with open('C:/Users/MVI_lab_2/Desktop/sezier_detection_LSTM/final_model/images/cnn_ada_boost_classification_report.txt', 'w') as file:\n",
    "    file.write(report)\n"
   ]
  },
  {
   "cell_type": "code",
   "execution_count": 42,
   "id": "35cca8af",
   "metadata": {},
   "outputs": [
    {
     "name": "stdout",
     "output_type": "stream",
     "text": [
      "Confusion Matrix: \n",
      " [[174215  35500]\n",
      " [ 38528 171186]]\n",
      "Normalized Confusion Matrix:\n",
      " [[0.83072265 0.16927735]\n",
      " [0.18371687 0.81628313]]\n"
     ]
    },
    {
     "data": {
      "image/png": "[encoded data removed]",
      "text/plain": [
       "<Figure size 432x288 with 2 Axes>"
      ]
     },
     "metadata": {
      "needs_background": "light"
     },
     "output_type": "display_data"
    }
   ],
   "source": [
    "import seaborn as sns\n",
    "import matplotlib.pyplot as plt\n",
    "from sklearn import metrics\n",
    "\n",
    "cnf_matrix = metrics.confusion_matrix(y_test, ada_boost_predictions)\n",
    "print(\"Confusion Matrix: \\n\", cnf_matrix)\n",
    "\n",
    "# Normalize confusion matrix\n",
    "cm_normalized = cnf_matrix.astype('float') / cnf_matrix.sum(axis=1)[:, np.newaxis]\n",
    "print(\"Normalized Confusion Matrix:\\n\", cm_normalized)\n",
    "\n",
    "classes = ['Class 0', 'Class 1']\n",
    "\n",
    "# Plot normalized confusion matrix using Seaborn\n",
    "sns.heatmap(cm_normalized, annot=True, cmap='Blues', xticklabels=classes, yticklabels=classes)\n",
    "plt.title('Normalized Confusion Matrix')\n",
    "plt.xlabel('Predicted label')\n",
    "plt.ylabel('True label')\n",
    "\n",
    "# Save the confusion matrix plot as an image file\n",
    "plt.savefig('C:/Users/MVI_lab_2/Desktop/sezier_detection_LSTM/final_model/images/cnn_ada_boost_confusion_matrix.png')\n",
    "\n",
    "plt.show()"
   ]
  },
  {
   "cell_type": "code",
   "execution_count": 43,
   "id": "d590de90",
   "metadata": {},
   "outputs": [
    {
     "name": "stdout",
     "output_type": "stream",
     "text": [
      "[0 1 1 ... 1 0 0]\n",
      "[[1. 0.]\n",
      " [0. 1.]\n",
      " [0. 1.]\n",
      " ...\n",
      " [0. 1.]\n",
      " [1. 0.]\n",
      " [1. 0.]]\n"
     ]
    }
   ],
   "source": [
    "print(ada_boost_predictions)\n",
    "\n",
    "ada_matrix = np.zeros((ada_boost_predictions.size, 2))\n",
    "\n",
    "for i in range(0,ada_boost_predictions.size):\n",
    "  if(ada_boost_predictions[i] == 1):\n",
    "    ada_matrix[i][1] = 1\n",
    "  else:\n",
    "    ada_matrix[i][0] = 1\n",
    "\n",
    "print(ada_matrix)"
   ]
  },
  {
   "cell_type": "code",
   "execution_count": 44,
   "id": "7ab41e8c",
   "metadata": {},
   "outputs": [
    {
     "name": "stderr",
     "output_type": "stream",
     "text": [
      "C:\\Users\\MVI_lab_2\\AppData\\Local\\Temp\\ipykernel_6372\\4202582999.py:26: DeprecationWarning: scipy.interp is deprecated and will be removed in SciPy 2.0.0, use numpy.interp instead\n",
      "  mean_tpr += interp(all_fpr, fpr[i], tpr[i])\n"
     ]
    },
    {
     "data": {
      "image/png": "[encoded data removed]",
      "text/plain": [
       "<Figure size 576x432 with 1 Axes>"
      ]
     },
     "metadata": {
      "needs_background": "light"
     },
     "output_type": "display_data"
    }
   ],
   "source": [
    "import numpy as np\n",
    "import matplotlib.pyplot as plt\n",
    "from itertools import cycle\n",
    "from sklearn.metrics import roc_curve, auc\n",
    "from scipy import interp\n",
    "\n",
    "def plot_AUC_ROC(y_true, y_pred, n_classes):\n",
    "    # Compute ROC curve and ROC area for each class\n",
    "    fpr = dict()\n",
    "    tpr = dict()\n",
    "    roc_auc = dict()\n",
    "\n",
    "    for i in range(n_classes):\n",
    "        fpr[i], tpr[i], _ = roc_curve(y_true == i, y_pred == i)\n",
    "        roc_auc[i] = auc(fpr[i], tpr[i])\n",
    "\n",
    "    # Compute micro-average ROC curve and ROC area\n",
    "    fpr[\"micro\"], tpr[\"micro\"], _ = roc_curve((y_true.ravel() == y_pred.ravel()), (y_pred.ravel() == 1))\n",
    "    roc_auc[\"micro\"] = auc(fpr[\"micro\"], tpr[\"micro\"])\n",
    "\n",
    "    # Compute macro-average ROC curve and ROC area\n",
    "    all_fpr = np.unique(np.concatenate([fpr[i] for i in range(n_classes)]))\n",
    "    mean_tpr = np.zeros_like(all_fpr)\n",
    "    \n",
    "    for i in range(n_classes):\n",
    "        mean_tpr += interp(all_fpr, fpr[i], tpr[i])\n",
    "        \n",
    "    mean_tpr /= n_classes\n",
    "    fpr[\"macro\"] = all_fpr\n",
    "    tpr[\"macro\"] = mean_tpr\n",
    "    roc_auc[\"macro\"] = auc(fpr[\"macro\"], tpr[\"macro\"])\n",
    "\n",
    "    # Plot ROC curves\n",
    "    plt.figure(figsize=(8, 6))\n",
    "    plt.plot(fpr[\"micro\"], tpr[\"micro\"], label='micro-average ROC curve (area = {0:0.2f})'.format(roc_auc[\"micro\"]), color='deeppink', linestyle='dotted', linewidth=3)\n",
    "    plt.plot(fpr[\"macro\"], tpr[\"macro\"], label='macro-average ROC curve (area = {0:0.2f})'.format(roc_auc[\"macro\"]), color='navy', linestyle=':', linewidth=3)\n",
    "\n",
    "    colors = cycle(['aqua', 'darkorange', 'cornflowerblue'])\n",
    "    for i, color in zip(range(n_classes), colors):\n",
    "        plt.plot(fpr[i], tpr[i], color=color, linewidth=2, label='Class {0} (AUC = {1:0.2f})'.format(i, roc_auc[i]))\n",
    "\n",
    "    plt.plot([0, 1], [0, 1], 'k--', linewidth=2)\n",
    "    plt.xlabel('False Positive Rate')\n",
    "    plt.ylabel('True Positive Rate')\n",
    "    plt.title('Receiver Operating Characteristic (ROC) Curve')\n",
    "    plt.legend(loc=\"lower right\")\n",
    "    \n",
    "    # Save the AUC ROC curve plot as an image file\n",
    "    plt.savefig('C:/Users/MVI_lab_2/Desktop/sezier_detection_LSTM/final_model/images/cnn_ada_boost_auc_roc_curve.png')\n",
    "    \n",
    "    plt.show()\n",
    "\n",
    "# Example usage:\n",
    "n_classes = 2  # Assuming binary classification\n",
    "plot_AUC_ROC(y_test, ada_boost_predictions, n_classes)"
   ]
  },
  {
   "cell_type": "code",
   "execution_count": 45,
   "id": "9bfc4197",
   "metadata": {},
   "outputs": [
    {
     "name": "stdout",
     "output_type": "stream",
     "text": [
      "13108/13108 [==============================] - 204s 16ms/step - loss: 0.1005 - accuracy: 0.9734\n",
      "Evaluation Loss: 0.10046490281820297\n",
      "Evaluation Accuracy: 0.973421037197113\n"
     ]
    }
   ],
   "source": [
    "import tensorflow as tf\n",
    "\n",
    "# Evaluate the model\n",
    "evaluation = model.evaluate(x_test, y_test)\n",
    "\n",
    "# Print evaluation metrics\n",
    "print(\"Evaluation Loss:\", evaluation[0])\n",
    "print(\"Evaluation Accuracy:\", evaluation[1])\n"
   ]
  },
  {
   "cell_type": "markdown",
   "id": "e9036f68",
   "metadata": {},
   "source": [
    "## All classifier Accuracy"
   ]
  },
  {
   "cell_type": "code",
   "execution_count": 46,
   "id": "22c805a1",
   "metadata": {},
   "outputs": [
    {
     "ename": "ModuleNotFoundError",
     "evalue": "No module named 'tabulate'",
     "output_type": "error",
     "traceback": [
      "\u001b[1;31m---------------------------------------------------------------------------\u001b[0m",
      "\u001b[1;31mModuleNotFoundError\u001b[0m                       Traceback (most recent call last)",
      "Input \u001b[1;32mIn [46]\u001b[0m, in \u001b[0;36m<cell line: 2>\u001b[1;34m()\u001b[0m\n\u001b[0;32m      1\u001b[0m \u001b[38;5;28;01mimport\u001b[39;00m \u001b[38;5;21;01mtensorflow\u001b[39;00m \u001b[38;5;28;01mas\u001b[39;00m \u001b[38;5;21;01mtf\u001b[39;00m\n\u001b[1;32m----> 2\u001b[0m \u001b[38;5;28;01mfrom\u001b[39;00m \u001b[38;5;21;01mtabulate\u001b[39;00m \u001b[38;5;28;01mimport\u001b[39;00m tabulate\n\u001b[0;32m      4\u001b[0m \u001b[38;5;66;03m# Define the data as a list of lists, where each inner list represents a row\u001b[39;00m\n\u001b[0;32m      5\u001b[0m data \u001b[38;5;241m=\u001b[39m [\n\u001b[0;32m      6\u001b[0m     [\u001b[38;5;124m\"\u001b[39m\u001b[38;5;124mModel\u001b[39m\u001b[38;5;124m\"\u001b[39m, \u001b[38;5;124m\"\u001b[39m\u001b[38;5;124mAccuracy\u001b[39m\u001b[38;5;124m\"\u001b[39m],\n\u001b[0;32m      7\u001b[0m     [\u001b[38;5;124m\"\u001b[39m\u001b[38;5;124mCustom CNN Model\u001b[39m\u001b[38;5;124m\"\u001b[39m, evaluation[\u001b[38;5;241m1\u001b[39m]],  \u001b[38;5;66;03m# Replacing VGG16 Model with Custom CNN Model and using the actual test accuracy\u001b[39;00m\n\u001b[1;32m   (...)\u001b[0m\n\u001b[0;32m     13\u001b[0m     [\u001b[38;5;124m\"\u001b[39m\u001b[38;5;124mAdaBoost\u001b[39m\u001b[38;5;124m\"\u001b[39m, ada_boost_accuracy]\n\u001b[0;32m     14\u001b[0m ]\n",
      "\u001b[1;31mModuleNotFoundError\u001b[0m: No module named 'tabulate'"
     ]
    }
   ],
   "source": [
    "import tensorflow as tf\n",
    "from tabulate import tabulate\n",
    "\n",
    "# Define the data as a list of lists, where each inner list represents a row\n",
    "data = [\n",
    "    [\"Model\", \"Accuracy\"],\n",
    "    [\"Custom CNN Model\", evaluation[1]],  # Replacing VGG16 Model with Custom CNN Model and using the actual test accuracy\n",
    "    [\"Decision Tree\", decision_tree_accuracy],\n",
    "    [\"Random Forest\", rf_accuracy],\n",
    "    [\"Support Vector Machine\", svm_accuracy],\n",
    "    [\"Naive Bayes\", nb_accuracy],\n",
    "    [\"Logistic Regression\", logistic_regression_accuracy],\n",
    "    [\"AdaBoost\", ada_boost_accuracy]\n",
    "]\n",
    "\n",
    "# Sort the data by accuracy, skipping the header and the first data row (Custom CNN Model)\n",
    "sorted_data = sorted(data[1:], key=lambda x: x[1], reverse=True)\n",
    "sorted_data.insert(0, data[0])  # Reinserting the header at the top\n",
    "\n",
    "# Print the data in tabular form\n",
    "print(tabulate(sorted_data, headers=\"firstrow\", tablefmt=\"grid\"))\n"
   ]
  },
  {
   "cell_type": "code",
   "execution_count": null,
   "id": "1eb9028f",
   "metadata": {},
   "outputs": [],
   "source": [
    "import tensorflow as tf\n",
    "from tabulate import tabulate\n",
    "import matplotlib.pyplot as plt\n",
    "\n",
    "# Define the data as a list of lists, where each inner list represents a row\n",
    "data = [\n",
    "    [\"Model\", \"Accuracy\"],\n",
    "    [\"Custom CNN Model\", evaluation[1]],  # Replacing VGG16 Model with Custom CNN Model and using the actual test accuracy\n",
    "    [\"Decision Tree\", decision_tree_accuracy],\n",
    "    [\"Random Forest\", rf_accuracy],\n",
    "    [\"Support Vector Machine\", svm_accuracy],\n",
    "    [\"Naive Bayes\", nb_accuracy],\n",
    "    [\"Logistic Regression\", logistic_regression_accuracy],\n",
    "    [\"AdaBoost\", ada_boost_accuracy]\n",
    "]\n",
    "\n",
    "# Sort the data by accuracy, skipping the header and the first data row (Custom CNN Model)\n",
    "sorted_data = sorted(data[1:], key=lambda x: x[1], reverse=True)\n",
    "sorted_data.insert(0, data[0])  # Reinserting the header at the top\n",
    "\n",
    "# Print the data in tabular form\n",
    "print(tabulate(sorted_data, headers=\"firstrow\", tablefmt=\"grid\"))\n",
    "\n",
    "# Plot and save the table as an image\n",
    "fig, ax = plt.subplots(figsize=(10, len(sorted_data)*0.4))  # Adjust figsize as needed\n",
    "ax.axis('tight')\n",
    "ax.axis('off')\n",
    "ax.table(cellText=sorted_data, colLabels=sorted_data[0], loc='center')\n",
    "plt.tight_layout()\n",
    "plt.savefig('C:/Users/MVI_lab_2/Desktop/sezier_detection_LSTM/final_model/images/table_image.png')  # Save the image as table_image.png\n",
    "plt.show()\n"
   ]
  },
  {
   "cell_type": "code",
   "execution_count": null,
   "id": "561042bf",
   "metadata": {},
   "outputs": [],
   "source": []
  }
 ],
 "metadata": {
  "kernelspec": {
   "display_name": "Python 3 (ipykernel)",
   "language": "python",
   "name": "python3"
  },
  "language_info": {
   "codemirror_mode": {
    "name": "ipython",
    "version": 3
   },
   "file_extension": ".py",
   "mimetype": "text/x-python",
   "name": "python",
   "nbconvert_exporter": "python",
   "pygments_lexer": "ipython3",
   "version": "3.10.4"
  }
 },
 "nbformat": 4,
 "nbformat_minor": 5
}
